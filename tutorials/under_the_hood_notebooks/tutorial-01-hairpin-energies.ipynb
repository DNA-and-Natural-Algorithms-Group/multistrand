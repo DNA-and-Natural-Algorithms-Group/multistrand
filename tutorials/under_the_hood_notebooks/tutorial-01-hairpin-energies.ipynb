{
 "cells": [
  {
   "cell_type": "markdown",
   "metadata": {},
   "source": [
    "# Tutorial 1 - Hairpin energies\n",
    "\n",
    "We will begin exploring the Multistrand model by asking a simple question:  How do haipins fold?\n",
    "Beginning from an unbound strand, and ending with a hairpin secondary structure, which scenario is more likely?\n",
    "\n",
    "#### Scenario 1\n",
    "The first base pairs form near the ends of the strands, and then *zip* towards the hairpin loop?\n",
    "\n",
    "\n",
    "<img src=\"files/zip-outside-in.png\" width=\"400px\">\n",
    "\n",
    "\n",
    "#### Scenario 2\n",
    "The first base pairs form near the hairpin loop, and then *zip* towards the ends of the strands?\n",
    "\n",
    "<img src=\"files/zip-inside-out.png\" width=\"400px\"/>\n",
    "\n",
    "Let's find out the differences of these scenarios using `multistrand`.\n",
    "\n",
    "We first need to import some objects and functions from the `multistrand` python library."
   ]
  },
  {
   "cell_type": "code",
   "execution_count": 1,
   "metadata": {
    "collapsed": false
   },
   "outputs": [],
   "source": [
    "from multistrand.objects import *\n",
    "from multistrand.options import Options\n",
    "from multistrand.system import *"
   ]
  },
  {
   "cell_type": "markdown",
   "metadata": {},
   "source": [
    "We begin by specifying the experimental conditions.  In this case, we will assume a temperature of $25^\\circ $C."
   ]
  },
  {
   "cell_type": "code",
   "execution_count": 2,
   "metadata": {
    "collapsed": false
   },
   "outputs": [],
   "source": [
    "TEMPERATURE=25\n",
    "o = Options(temperature=TEMPERATURE,dangles=\"Some\")\n",
    "initialize_energy_model(o)"
   ]
  },
  {
   "cell_type": "code",
   "execution_count": 3,
   "metadata": {
    "collapsed": false
   },
   "outputs": [],
   "source": [
    "Loop_Energy = 0    # argument value to energy() function call, below, requesting no dG_assoc or dG_volume terms to be added.  So only loop energies remain.\n",
    "Volume_Energy = 1  # argument value to energy() function call, below, requesting dG_volume but not dG_assoc terms to be added.  No clear interpretation for this.\n",
    "Complex_Energy = 2 # argument value to energy() function call, below, requesting dG_assoc but not dG_volume terms to be added.  This is the NUPACK complex microstate energy.\n",
    "Tube_Energy = 3    # argument value to energy() function call, below, requesting both dG_assoc and dG_volume terms to be added.  Summed over complexes, this is the system state energy."
   ]
  },
  {
   "cell_type": "markdown",
   "metadata": {},
   "source": [
    "Just for illustration, let's try to calculate the $\\Delta G$ of a simple hairpin structure."
   ]
  },
  {
   "cell_type": "code",
   "execution_count": 4,
   "metadata": {
    "collapsed": false
   },
   "outputs": [
    {
     "data": {
      "text/plain": [
       "(-1.449479284217312,)"
      ]
     },
     "execution_count": 4,
     "metadata": {},
     "output_type": "execute_result"
    }
   ],
   "source": [
    "SEQUENCE = \"GTTCGGGCAAAAGCCCGAAC\"\n",
    "STRUCTURE = '((((' + 12*'.' + '))))'\n",
    "c = Complex( strands=[Strand(name=\"hairpin\", sequence=SEQUENCE)], structure= STRUCTURE )\n",
    "energy( [c], o, Complex_Energy)  # should be -1.1449...\n",
    "# Note that energy() takes a *list* of complexes, and returns a tuple of energies.  Don't give it just a complex as input, else all hell may break loose."
   ]
  },
  {
   "cell_type": "markdown",
   "metadata": {},
   "source": [
    "## Sanity check the structure energy with `NUPACK`\n",
    "\n",
    "Let's use the `NUPACK` python interface to ensure the energie values agree."
   ]
  },
  {
   "cell_type": "code",
   "execution_count": 5,
   "metadata": {
    "collapsed": false
   },
   "outputs": [
    {
     "name": "stdout",
     "output_type": "stream",
     "text": [
      "Python interface to NUPACK 3.0 (Pierce lab, Caltech, www.nupack.org) loaded.\n",
      "-1.44947928422\n"
     ]
    }
   ],
   "source": [
    "import nupack\n",
    "\n",
    "MATERIAL = 'dna'\n",
    "dna_seqs = [SEQUENCE]\n",
    "print nupack.energy(dna_seqs, STRUCTURE, material = 'dna', T=TEMPERATURE)"
   ]
  },
  {
   "cell_type": "markdown",
   "metadata": {},
   "source": [
    "## Back to the experiment\n",
    "\n",
    "Next we define a convenience function to pretty print secondary structures."
   ]
  },
  {
   "cell_type": "code",
   "execution_count": 6,
   "metadata": {
    "collapsed": false
   },
   "outputs": [],
   "source": [
    "def print_hp(s):\n",
    "    e = energy( [Complex( strands=[Strand(name=\"hairpin\", sequence=\"GTTCGGGCAAAAGCCCGAAC\")], structure=s)], o, Complex_Energy)[0]  \n",
    "    print s + '  (%5.2f)' % e\n",
    "    return e"
   ]
  },
  {
   "cell_type": "markdown",
   "metadata": {},
   "source": [
    "#### Pathway for scenario 1\n",
    "Recall that in scenario #1 the base pairs first form near the strand ends."
   ]
  },
  {
   "cell_type": "code",
   "execution_count": 7,
   "metadata": {
    "collapsed": false
   },
   "outputs": [
    {
     "name": "stdout",
     "output_type": "stream",
     "text": [
      "....................  ( 0.00)\n",
      "(..................)  ( 3.61)\n",
      "((................))  ( 1.94)\n",
      "(((..............)))  ( 0.25)\n",
      "((((............))))  (-1.45)\n",
      "(((((..........)))))  (-4.14)\n",
      "((((((........))))))  (-6.22)\n",
      "(((((((......)))))))  (-8.58)\n",
      "((((((((....))))))))  (-10.37)\n"
     ]
    }
   ],
   "source": [
    "path1=[0]*9\n",
    "path1[0] = print_hp('....................')\n",
    "path1[1] = print_hp('(..................)')\n",
    "path1[2] = print_hp('((................))')\n",
    "path1[3] = print_hp('(((..............)))')\n",
    "path1[4] = print_hp('((((............))))')\n",
    "path1[5] = print_hp('(((((..........)))))')\n",
    "path1[6] = print_hp('((((((........))))))')\n",
    "path1[7] = print_hp('(((((((......)))))))')\n",
    "path1[8] = print_hp('((((((((....))))))))')"
   ]
  },
  {
   "cell_type": "markdown",
   "metadata": {},
   "source": [
    "#### Pathway for scenario 2\n",
    "In scenario #2 the first base pairs form near the loop and the stem forms by zipping towards the strand ends."
   ]
  },
  {
   "cell_type": "code",
   "execution_count": 8,
   "metadata": {
    "collapsed": false
   },
   "outputs": [
    {
     "name": "stdout",
     "output_type": "stream",
     "text": [
      "....................  ( 0.00)\n",
      ".......(....).......  ( 2.24)\n",
      "......((....))......  (-0.27)\n",
      ".....(((....))).....  (-2.35)\n",
      "....((((....))))....  (-3.95)\n",
      "...(((((....)))))...  (-7.51)\n",
      "..((((((....))))))..  (-7.50)\n",
      ".(((((((....))))))).  (-7.78)\n",
      "((((((((....))))))))  (-10.37)\n"
     ]
    }
   ],
   "source": [
    "path2=[0]*9\n",
    "for i in range(9):\n",
    "    path2[i] = print_hp('.'*(8-i) + '('*i + '....' + ')'*i + '.'*(8-i))\n",
    "\n",
    "steps    = range(9)"
   ]
  },
  {
   "cell_type": "markdown",
   "metadata": {},
   "source": [
    "## Plot the energy of the folding pathways\n",
    "Note that both pathways lead to the same structure, which has the same free energy.  But how does the energy change while the stem is forming, and how are the two scenarios different?  We can plot the energy at each step of these two possible folding pathways, as they progress from an unfolded state to a completely folded state, to see how they differ.  Plotting is simple with the help of the `matplotlib` and `numpy` libraries."
   ]
  },
  {
   "cell_type": "code",
   "execution_count": 9,
   "metadata": {
    "collapsed": false
   },
   "outputs": [],
   "source": [
    "%matplotlib inline\n",
    "import numpy as np\n",
    "import matplotlib\n",
    "import matplotlib.pylab as pyp"
   ]
  },
  {
   "cell_type": "code",
   "execution_count": 10,
   "metadata": {
    "collapsed": false
   },
   "outputs": [
    {
     "data": {
      "image/png": "[encoded data removed]",
      "text/plain": [
       "<matplotlib.figure.Figure at 0x1115b1a50>"
      ]
     },
     "metadata": {},
     "output_type": "display_data"
    }
   ],
   "source": [
    "pyp.figure(1)\n",
    "pyp.plot(steps,path1,'go', label='Outside bases first')\n",
    "pyp.hold(True)\n",
    "pyp.plot(steps,path1,'g-', label='_nolabel_')\n",
    "pyp.plot(steps,path2,'rx', label='Inside bases first')\n",
    "pyp.plot(steps,path2,'r-', label='_nolabel_')\n",
    "pyp.hold(False)\n",
    "pyp.title(\"Energy landscape for two hairpin folding pathways\")\n",
    "pyp.xlabel(\"Base pairs formed\",fontsize='larger')\n",
    "pyp.ylabel(\"Microstate Energy (kcal/mol)\",fontsize='larger')\n",
    "pyp.yticks(fontsize='larger',va='bottom')\n",
    "pyp.xticks(fontsize='larger')\n",
    "pyp.legend()\n",
    "pyp.show()"
   ]
  },
  {
   "cell_type": "code",
   "execution_count": null,
   "metadata": {
    "collapsed": true
   },
   "outputs": [],
   "source": []
  }
 ],
 "metadata": {
  "kernelspec": {
   "display_name": "Python 2",
   "language": "python",
   "name": "python2"
  },
  "language_info": {
   "codemirror_mode": {
    "name": "ipython",
    "version": 2
   },
   "file_extension": ".py",
   "mimetype": "text/x-python",
   "name": "python",
   "nbconvert_exporter": "python",
   "pygments_lexer": "ipython2",
   "version": "2.7.6"
  }
 },
 "nbformat": 4,
 "nbformat_minor": 0
}
