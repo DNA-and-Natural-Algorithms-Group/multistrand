{
 "cells": [
  {
   "cell_type": "markdown",
   "metadata": {},
   "source": [
    "# Tutorial 7 - Three-way Branch Migration Transitions\n",
    "\n",
    "This example is similar to Tutorial 1, where we studied the opening and closing of a hairpin ('kissing stem-loop'). This time, we discuss how multistranded complexes are handled. Mainly, we think about what the exact and loose macrostate differences are -- what do they tell us?\n",
    "\n",
    "Let's start with some basic imports:"
   ]
  },
  {
   "cell_type": "code",
   "execution_count": 1,
   "metadata": {
    "collapsed": true
   },
   "outputs": [],
   "source": [
    "#import os\n",
    "#os.environ[\"NUPACKHOME\"] = \"..\"    # use this if you notice NUPACKHOME errors\n",
    "\n",
    "if False:  # only needed if you're having trouble with your Multistrand installation\n",
    "    import multistrand_setup\n",
    "\n",
    "try:\n",
    "    from multistrand.objects import *\n",
    "    from multistrand.options import Options\n",
    "    from multistrand.system import SimSystem\n",
    "\n",
    "except ImportError:\n",
    "    print(\"Could not import Multistrand.\")\n",
    "    raise\n",
    "\n",
    "\n",
    "import numpy as np"
   ]
  },
  {
   "cell_type": "markdown",
   "metadata": {},
   "source": [
    "## Macrostates, complexes, strands and domains.\n",
    "\n",
    "As before, the macrostates definitions are used as stop conditions for our simulation: "
   ]
  },
  {
   "cell_type": "code",
   "execution_count": 2,
   "metadata": {
    "collapsed": true
   },
   "outputs": [],
   "source": [
    "# for StopCondition and Macrostate definitions:\n",
    "Exact_Macrostate = 0   # match a secondary structure exactly (i.e. any system state that has a complex with this exact structure)\n",
    "Bound_Macrostate = 1   # match any system state in which the given strand is bound to another strand\n",
    "Dissoc_Macrostate = 2  # match any system state in which there exists a complex with exactly the given strands, in that order\n",
    "Loose_Macrostate = 3   # match a secondary structure with \"don't care\"s, allowing a certain number of disagreements\n",
    "Count_Macrostate = 4   # match a secondary structure, allowing a certain number of disagreements\n",
    "# see Schaeffer's PhD thesis, chapter 7.2, for more information"
   ]
  },
  {
   "cell_type": "markdown",
   "metadata": {},
   "source": [
    "In the following setup, we simulate a three-way branch migration. To study how the branch migration progresses, we define intermediate structures and measure how much time the simulation spents in each of these states. We also estimate the transition probability between each of these states. In the below, we define the initial structure,  in addition to structures with six, twelve and eightteen displaced base-pairs. \n",
    "\n",
    "We explore two competing approaches by defining exact and the loose macrostates. Note how in the dot-parenthesis notation, which is used to denote secondary structure for our nucleic acids, the asterix is used as a wildcard. In the loose macro states, only eight out of the seventy-two possible base-pairs are defined, and if any state includes at least six of those bounds, then it is in the set of matching states. In contrast, the exact macrostates have no wildcards and only when the simulation reaches that the exact state, a match is recorded."
   ]
  },
  {
   "cell_type": "code",
   "execution_count": 3,
   "metadata": {
    "collapsed": true
   },
   "outputs": [],
   "source": [
    "def setup_options_threewaybm(toehold_seq = \"GTGGGT\", bm_design = \"ACCGCACGTCACTCACCTCG\"):\n",
    "\n",
    "    # the structures below are hard-coded for these lengths\n",
    "    assert len(toehold_seq)==6\n",
    "    assert len(bm_design)==20\n",
    "\n",
    "    toehold = Domain(name=\"toehold\",sequence=toehold_seq,length=6)\n",
    "    branch_migration = Domain(name=\"bm\", sequence=bm_design, seq_length=20)\n",
    "    \n",
    "    substrate = toehold + branch_migration\n",
    "    incumbent = Strand(name=\"incumbent\",domains=[branch_migration.C])\n",
    "\n",
    "    incoming = substrate.C\n",
    "\n",
    "    # start with 6-base toehold fully bound\n",
    "    start_complex = Complex(strands=[incoming, substrate, incumbent], structure=\".(+)(+)\")\n",
    "\n",
    "    initial_structure_dp   = \"....................((((((+))))))((((((((((((((((((((+))))))))))))))))))))\"\n",
    "    six_bases_structure_dp = \"..............((((((((((((+))))))))))))((((((((((((((+))))))))))))))......\"\n",
    "    six_bases_loose_dp     = \"**************((**********+**********))((************+************))******\"\n",
    "    twelve_bases_struc_dp  = \"........((((((((((((((((((+))))))))))))))))))((((((((+))))))))............\"\n",
    "    twelve_bases_loose_dp  = \"********((*****************+***************))((******+******))************\"\n",
    "    eighteen_structure_dp  = \"..((((((((((((((((((((((((+))))))))))))))))))))))))((+))..................\"\n",
    "    eighteen_loose_dp      = \"**((**********************+**********************))((+))******************\"\n",
    "\n",
    "    six_bases_complex           = Complex(strands=[incoming,substrate,incumbent], structure=six_bases_structure_dp)\n",
    "    twelve_bases_complex        = Complex(strands=[incoming,substrate,incumbent], structure=twelve_bases_struc_dp)\n",
    "    eighteen_bases_complex      = Complex(strands=[incoming,substrate,incumbent], structure=eighteen_structure_dp)\n",
    "    six_basesloose_complex      = Complex(strands=[incoming,substrate,incumbent], structure=six_bases_loose_dp)\n",
    "    twelve_basesloose_complex   = Complex(strands=[incoming,substrate,incumbent], structure=twelve_bases_loose_dp)\n",
    "    eighteen_basesloose_complex = Complex(strands=[incoming,substrate,incumbent], structure=eighteen_loose_dp)\n",
    "\n",
    "    disassoc_complex            = Complex(strands=[incumbent], structure=\".\")   # succesful strand displacement\n",
    "    failed_complex              = Complex(strands=[incoming], structure=\"..\")   # failed strand displacement attempt\n",
    "\n",
    "    start_sc          = Macrostate(\"INITIAL\", [(start_complex,Count_Macrostate,2)])                 # Within distance 2 of the start_complex state.\n",
    "    six_sc_exact      = Macrostate(\"SIX_EXACT\", [(six_bases_complex,Exact_Macrostate,0)])           # the third parameter is ignored; not needed for exact macrostates\n",
    "    six_sc_loose      = Macrostate(\"SIX_LOOSE\", [(six_basesloose_complex,Loose_Macrostate,2)])      # 8 base pairs defined; must have at least 6 to match.\n",
    "    twelve_sc_exact   = Macrostate(\"TWELVE_EXACT\", [(twelve_bases_complex,Exact_Macrostate,0)])\n",
    "    twelve_sc_loose   = Macrostate(\"TWELVE_LOOSE\", [(twelve_basesloose_complex,Loose_Macrostate,2)])\n",
    "    eighteen_sc_exact = Macrostate(\"EIGHTEEN_EXACT\", [(eighteen_bases_complex,Exact_Macrostate,0)])\n",
    "    eighteen_sc_loose = Macrostate(\"EIGHTEEN_LOOSE\", [(eighteen_basesloose_complex,Loose_Macrostate,2)])\n",
    "\n",
    "    # why bother giving a list of just one macrostate-def tuple?  A Macrostate with a list of multiple tuples give the AND (i.e. intersection) of microstates.\n",
    "\n",
    "    completed_sc      = StopCondition(\"stop:COMPLETE\", [(disassoc_complex,Dissoc_Macrostate,0)])  # incumbent strand fell off  \n",
    "    rejected_sc       = StopCondition(\"stop:REJECTED\", [(failed_complex,Dissoc_Macrostate,0)])    # incoming strand fell off\n",
    "\n",
    "    # join_concentration is not defined, because in this simulation we stop before there's any chance for association steps\n",
    "    o_exact = Options(simulation_mode=\"Transition\",parameter_type=\"Nupack\", dangles=\"Some\",\n",
    "                substrate_type=\"DNA\", num_simulations = 10, simulation_time=.01, temperature=310.15,\n",
    "                start_state=[start_complex], rate_scaling='Calibrated', verbosity=0)\n",
    "\n",
    "    o_exact.stop_conditions = [start_sc, six_sc_exact, twelve_sc_exact, eighteen_sc_exact, completed_sc, rejected_sc]\n",
    "    \n",
    "    o_loose = Options(simulation_mode=\"Transition\",parameter_type=\"Nupack\", dangles=\"Some\",\n",
    "                substrate_type=\"DNA\", num_simulations = 10, simulation_time=.01, temperature=310.15,\n",
    "                start_state=[start_complex], rate_scaling='Calibrated', verbosity=0)\n",
    "\n",
    "    o_loose.stop_conditions = [start_sc, six_sc_loose, twelve_sc_loose, eighteen_sc_loose, completed_sc, rejected_sc]\n",
    "\n",
    "    return o_exact, o_loose"
   ]
  },
  {
   "cell_type": "markdown",
   "metadata": {},
   "source": [
    "Were you able to figure out the topology of the initial state,  `initial_structure_dp`, in the above? It looks like this:\n",
    "\n",
    "<img src=\"files/three-way-bm.svg\" width=\"740px\">\n",
    "\n",
    "With this in mind, you'll be able to work out the other states, which are specified to have six, twelve and eighteen displaced base-pairs, respectively.\n",
    "\n",
    "To keep track of the progress of the three-way branch migration, the following helper functions are defined:"
   ]
  },
  {
   "cell_type": "code",
   "execution_count": 4,
   "metadata": {
    "collapsed": true
   },
   "outputs": [],
   "source": [
    "# mol will be a list of True/False for which transition macrostates the system has entered\n",
    "# so in_state(mol) returns True if the system is in at least one of the listed macrostates.\n",
    "def in_state( mol ): return sum(mol) > 0\n",
    "\n",
    "# mol is a Boolean descriptor of macrostate occupancy, like mol above.\n",
    "# a short-hand name for this macrostate (based on the order given in stop_conditions) is provided.\n",
    "def mol_name(mol):\n",
    "    charindex = 'ABCDEFGHIJKLMNOPQRSTUVWXYZ0'\n",
    "    names = [charindex[j] for i,j in zip(mol,range(len(mol))) if i]\n",
    "    if names == []:\n",
    "        names = charindex[26]\n",
    "    else:\n",
    "        names = \",\".join(names)\n",
    "    return names\n",
    "\n",
    "# t0 and t1 are Boolean descriptors of macrostate occupancy, like mol above.\n",
    "# here, we provide a printable name for the transition between two macrostate occupancy lists.\n",
    "def trans_name(t0,t1):\n",
    "    return mol_name(t0) + ' -> ' + mol_name(t1)\n",
    "\n",
    "def print_transitions( transition_traj ):\n",
    "    for t in transition_traj:\n",
    "        print \"%12g : %s\" % ( t[0], mol_name(t[1]) )"
   ]
  },
  {
   "cell_type": "code",
   "execution_count": 5,
   "metadata": {
    "collapsed": true
   },
   "outputs": [],
   "source": [
    "# for each simulation, the transition trajectory reports the tuple (time_entered, which_macrostates_the_system_is_now_in)\n",
    "def parse_transition_lists( transition_traj_list ):\n",
    "    transition_dict = {}\n",
    "\n",
    "    # the mol1 --> mol2 transition times represent (time of entry into mol1) to (time of entry into mol2)\n",
    "    for transition_traj in transition_traj_list:\n",
    "        truncated = [i for i in transition_traj if in_state(i[1])]\n",
    "        tt = truncated # only keep the entry times and mol states for non-trivial mols\n",
    "\n",
    "        for i in range(len(tt)-1):\n",
    "            nm = trans_name(tt[i][1],tt[i+1][1])\n",
    "            if nm in transition_dict:\n",
    "                transition_dict[nm].append( tt[i+1][0] - tt[i][0] )\n",
    "            else:\n",
    "                transition_dict[nm] = [tt[i+1][0] - tt[i][0]]\n",
    "\n",
    "    return transition_dict\n",
    "\n",
    "def parse_transition_list( transition_traj_list ):\n",
    "    return parse_transition_lists( [transition_traj_list] )\n",
    "\n",
    "    \n",
    "def print_transition_dict( transition_dict, options = None ):\n",
    "    k = transition_dict.keys()\n",
    "    k.sort() \n",
    "\n",
    "    for i in k:\n",
    "        transition_times = np.array( transition_dict[i] )\n",
    "        print(\"{0}: {2:.2e} ({1})\".format(i,len(transition_dict[i]),np.mean(transition_times)))\n",
    "    \n",
    "    # also print the true names of the macrostates, if an Options object is provided\n",
    "    charindex = 'ABCDEFGHIJKLMNOPQRSTUVWXYZ0'\n",
    "    if options:\n",
    "        for i,idx in zip(options.stop_conditions,range(len(options.stop_conditions))):\n",
    "            print(\"{0}: {1}\".format( i.tag, charindex[idx]))"
   ]
  },
  {
   "cell_type": "markdown",
   "metadata": {},
   "source": [
    "We are now ready to start the simualtion."
   ]
  },
  {
   "cell_type": "code",
   "execution_count": 6,
   "metadata": {
    "collapsed": false
   },
   "outputs": [
    {
     "name": "stdout",
     "output_type": "stream",
     "text": [
      "--- Running simulations ---\n",
      "--- Finished simulations ---\n"
     ]
    }
   ],
   "source": [
    "# Could take up to <10s to run\n",
    "\n",
    "print \"--- Running simulations ---\"\n",
    "o_exact,o_loose = setup_options_threewaybm() \n",
    "\n",
    "# Try this too... The toehold dissociates much slower.\n",
    "#o_exact,o_loose = setup_options_threewaybm(bm_design=\"ACCGCACGTCCACGGTGTCG\") \n",
    "\n",
    "s=SimSystem(o_exact)\n",
    "s.start()\n",
    "print \"--- Finished simulations ---\""
   ]
  },
  {
   "cell_type": "markdown",
   "metadata": {},
   "source": [
    "The following function plots the results for the exact macrostates. Internally, multistrand stores the time and macrostate whenever the simulation enters a macrostate. A transition between macrostates A and B is therefore registered if the simulation, currently in A, enters B before entering any other macrostate."
   ]
  },
  {
   "cell_type": "code",
   "execution_count": 7,
   "metadata": {
    "collapsed": false
   },
   "outputs": [
    {
     "name": "stdout",
     "output_type": "stream",
     "text": [
      "\n",
      "--- Analysis of simulations by transitional states ---\n",
      "  Transitions from simulation #1:\n",
      "A -> A: 9.99e-09 (354)\n",
      "A -> B: 2.14e-07 (2)\n",
      "B -> A: 2.20e-07 (1)\n",
      "B -> B: 1.12e-09 (3)\n",
      "B -> C: 1.68e-07 (1)\n",
      "C -> C: 5.90e-08 (72)\n",
      "C -> D: 1.19e-07 (1)\n",
      "C -> E: 9.96e-07 (1)\n",
      "D -> C: 3.67e-07 (1)\n",
      "D -> D: 1.12e-08 (25)\n",
      "  Transitions averaged over all 10 simulations:\n",
      "A -> A: 8.84e-09 (32629)\n",
      "A -> B: 2.53e-07 (40)\n",
      "A -> C: 7.44e-07 (2)\n",
      "A -> F: 5.64e-08 (1)\n",
      "B -> A: 2.48e-07 (33)\n",
      "B -> B: 4.57e-08 (710)\n",
      "B -> C: 8.57e-07 (9)\n",
      "C -> B: 1.31e-06 (2)\n",
      "C -> C: 7.55e-08 (568)\n",
      "C -> D: 1.85e-07 (13)\n",
      "C -> E: 9.96e-07 (1)\n",
      "D -> C: 1.60e-07 (5)\n",
      "D -> D: 9.04e-09 (880)\n",
      "D -> E: 5.16e-08 (8)\n",
      "INITIAL: A\n",
      "SIX_EXACT: B\n",
      "TWELVE_EXACT: C\n",
      "EIGHTEEN_EXACT: D\n",
      "stop:COMPLETE: E\n",
      "stop:REJECTED: F\n"
     ]
    }
   ],
   "source": [
    "def print_results( o ):\n",
    "    print\n",
    "    print \"--- Analysis of simulations by transitional states ---\"\n",
    "    # print \"  Coarse-grained trajectory of simulation #1:\"\n",
    "    # print_transitions(o1.interface.transition_lists[0])\n",
    "    print \"  Transitions from simulation #1:\"\n",
    "    parsedlist = parse_transition_list(o.interface.transition_lists[0])\n",
    "    print_transition_dict(parsedlist)\n",
    "    print \"  Transitions averaged over all %d simulations:\" % o.num_simulations\n",
    "    parsedlist = parse_transition_lists(o.interface.transition_lists)\n",
    "    print_transition_dict(parsedlist,o) # adds names for macrostates\n",
    "\n",
    "print_results(o_exact)"
   ]
  },
  {
   "cell_type": "markdown",
   "metadata": {},
   "source": [
    "Between state A, the initial state, and state E, indicating succesful migration, and state F, indicating the disocciation of the invading strand from the complex, can you work out in how many simulations the migration was completed?\n",
    "\n",
    "We now run the same simulation, and report the time spent in the loose macrostates: "
   ]
  },
  {
   "cell_type": "code",
   "execution_count": 8,
   "metadata": {
    "collapsed": false
   },
   "outputs": [
    {
     "name": "stdout",
     "output_type": "stream",
     "text": [
      "\n",
      "--- Analysis of simulations by transitional states ---\n",
      "  Transitions from simulation #1:\n",
      "A -> A: 8.60e-09 (1288)\n",
      "A -> B: 1.57e-07 (3)\n",
      "B -> A: 1.72e-07 (2)\n",
      "B -> B: 3.31e-08 (57)\n",
      "B -> C: 1.36e-07 (1)\n",
      "C -> C: 7.02e-08 (16)\n",
      "C -> D: 5.01e-08 (1)\n",
      "D -> D: 3.77e-08 (12)\n",
      "D -> E: 4.35e-08 (1)\n",
      "  Transitions averaged over all 10 simulations:\n",
      "A -> A: 9.16e-09 (30124)\n",
      "A -> B: 1.55e-07 (38)\n",
      "B -> A: 1.59e-07 (28)\n",
      "B -> B: 3.09e-08 (866)\n",
      "B -> C: 7.90e-07 (17)\n",
      "C -> B: 4.85e-07 (7)\n",
      "C -> C: 6.33e-08 (400)\n",
      "C -> D: 1.23e-07 (14)\n",
      "D -> C: 1.69e-07 (4)\n",
      "D -> D: 3.48e-08 (191)\n",
      "D -> E: 1.89e-07 (10)\n",
      "INITIAL: A\n",
      "SIX_LOOSE: B\n",
      "TWELVE_LOOSE: C\n",
      "EIGHTEEN_LOOSE: D\n",
      "stop:COMPLETE: E\n",
      "stop:REJECTED: F\n"
     ]
    }
   ],
   "source": [
    "s=SimSystem(o_loose)\n",
    "s.start()\n",
    "print_results(o_loose)"
   ]
  },
  {
   "cell_type": "markdown",
   "metadata": {},
   "source": [
    "The lesson here is similar to Tutorial 1. When exact macrostates are tracked, not much information is obtained because the system does not spend much time in each exact macrostate. Using a more relaxed macrostate, we are able to track the migration process in greater detail."
   ]
  }
 ],
 "metadata": {
  "kernelspec": {
   "display_name": "Python 2",
   "language": "python",
   "name": "python2"
  },
  "language_info": {
   "codemirror_mode": {
    "name": "ipython",
    "version": 2.0
   },
   "file_extension": ".py",
   "mimetype": "text/x-python",
   "name": "python",
   "nbconvert_exporter": "python",
   "pygments_lexer": "ipython2",
   "version": "2.7.6"
  }
 },
 "nbformat": 4,
 "nbformat_minor": 0
}