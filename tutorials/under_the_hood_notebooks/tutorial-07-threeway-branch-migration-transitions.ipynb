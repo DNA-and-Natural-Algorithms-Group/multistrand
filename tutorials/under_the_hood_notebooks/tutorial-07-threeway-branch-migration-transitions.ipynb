{
 "cells": [
  {
   "cell_type": "markdown",
   "metadata": {},
   "source": [
    "\n",
    "<h1 id=\"Tutorial-7---Three-way-Branch-Migration-Transitions\">Tutorial 7 - Three-way Branch Migration Transitions<a class=\"anchor-link\" href=\"#Tutorial-7---Three-way-Branch-Migration-Transitions\">¶</a></h1><p>This example is similar to Tutorial 1, where we studied the opening and closing of a hairpin ('kissing stem-loop'). This time, we discuss how multistranded complexes are handled. Mainly, we think about what the exact and loose macrostate differences are -- what do they tell us?</p>\n",
    "<p>Let's start with some basic imports:</p>\n"
   ]
  },
  {
   "cell_type": "code",
   "execution_count": 3,
   "metadata": {},
   "outputs": [],
   "source": [
    "from multistrand.objects import *\n",
    "from multistrand.options import Options, Literals\n",
    "from multistrand.system import SimSystem\n",
    "\n",
    "import numpy as np"
   ]
  },
  {
   "cell_type": "markdown",
   "metadata": {},
   "source": [
    "\n",
    "<h2 id=\"Macrostates,-complexes,-strands-and-domains.\">Macrostates, complexes, strands and domains.<a class=\"anchor-link\" href=\"#Macrostates,-complexes,-strands-and-domains.\">¶</a></h2>\n"
   ]
  },
  {
   "cell_type": "markdown",
   "metadata": {},
   "source": [
    "\n",
    "<p>In the following setup, we simulate a three-way branch migration. To study how the branch migration progresses, we define intermediate structures and measure how much time the simulation spents in each of these states. We also estimate the transition probability between each of these states. In the below, we define the initial structure,  in addition to structures with six, twelve and eightteen displaced base-pairs.</p>\n",
    "<p>We explore two competing approaches by defining exact and the loose macrostates. Note how in the dot-parenthesis notation, which is used to denote secondary structure for our nucleic acids, the asterix is used as a wildcard. In the loose macro states, only eight out of the seventy-two possible base-pairs are defined, and if any state includes at least six of those bounds, then it is in the set of matching states. In contrast, the exact macrostates have no wildcards and only when the simulation reaches that the exact state, a match is recorded.</p>\n"
   ]
  },
  {
   "cell_type": "code",
   "execution_count": 4,
   "metadata": {},
   "outputs": [],
   "source": [
    "def setup_options_threewaybm(toehold_seq = \"GTGGGT\", bm_design = \"ACCGCACGTCACTCACCTCG\"):\n",
    "\n",
    "    # the structures below are hard-coded for these lengths\n",
    "    assert len(toehold_seq)==6\n",
    "    assert len(bm_design)==20\n",
    "\n",
    "    toehold = Domain(name=\"toehold\",sequence=toehold_seq,length=6)\n",
    "    branch_migration = Domain(name=\"bm\", sequence=bm_design, seq_length=20)\n",
    "    \n",
    "    substrate = toehold + branch_migration\n",
    "    incumbent = Strand(name=\"incumbent\",domains=[branch_migration.C])\n",
    "\n",
    "    incoming = substrate.C\n",
    "\n",
    "    # start with 6-base toehold fully bound\n",
    "    start_complex = Complex(strands=[incoming, substrate, incumbent], structure=\".(+)(+)\")\n",
    "\n",
    "    initial_structure_dp   = \"....................((((((+))))))((((((((((((((((((((+))))))))))))))))))))\"\n",
    "    six_bases_structure_dp = \"..............((((((((((((+))))))))))))((((((((((((((+))))))))))))))......\"\n",
    "    six_bases_loose_dp     = \"**************((**********+**********))((************+************))******\"\n",
    "    twelve_bases_struc_dp  = \"........((((((((((((((((((+))))))))))))))))))((((((((+))))))))............\"\n",
    "    twelve_bases_loose_dp  = \"********((*****************+***************))((******+******))************\"\n",
    "    eighteen_structure_dp  = \"..((((((((((((((((((((((((+))))))))))))))))))))))))((+))..................\"\n",
    "    eighteen_loose_dp      = \"**((**********************+**********************))((+))******************\"\n",
    "\n",
    "    six_bases_complex           = Complex(strands=[incoming,substrate,incumbent], structure=six_bases_structure_dp)\n",
    "    twelve_bases_complex        = Complex(strands=[incoming,substrate,incumbent], structure=twelve_bases_struc_dp)\n",
    "    eighteen_bases_complex      = Complex(strands=[incoming,substrate,incumbent], structure=eighteen_structure_dp)\n",
    "    six_basesloose_complex      = Complex(strands=[incoming,substrate,incumbent], structure=six_bases_loose_dp)\n",
    "    twelve_basesloose_complex   = Complex(strands=[incoming,substrate,incumbent], structure=twelve_bases_loose_dp)\n",
    "    eighteen_basesloose_complex = Complex(strands=[incoming,substrate,incumbent], structure=eighteen_loose_dp)\n",
    "\n",
    "    disassoc_complex            = Complex(strands=[incumbent], structure=\".\")   # succesful strand displacement\n",
    "    failed_complex              = Complex(strands=[incoming], structure=\"..\")   # failed strand displacement attempt\n",
    "\n",
    "    start_sc          = Macrostate(\"INITIAL\", [(start_complex,Literals.count_macrostate,2)])                 # Within distance 2 of the start_complex state.\n",
    "    six_sc_exact      = Macrostate(\"SIX_EXACT\", [(six_bases_complex,Literals.exact_macrostate,0)])           # the third parameter is ignored; not needed for exact macrostates\n",
    "    six_sc_loose      = Macrostate(\"SIX_LOOSE\", [(six_basesloose_complex,Literals.loose_macrostate,2)])      # 8 base pairs defined; must have at least 6 to match.\n",
    "    twelve_sc_exact   = Macrostate(\"TWELVE_EXACT\", [(twelve_bases_complex,Literals.exact_macrostate,0)])\n",
    "    twelve_sc_loose   = Macrostate(\"TWELVE_LOOSE\", [(twelve_basesloose_complex,Literals.loose_macrostate,2)])\n",
    "    eighteen_sc_exact = Macrostate(\"EIGHTEEN_EXACT\", [(eighteen_bases_complex,Literals.exact_macrostate,0)])\n",
    "    eighteen_sc_loose = Macrostate(\"EIGHTEEN_LOOSE\", [(eighteen_basesloose_complex,Literals.loose_macrostate,2)])\n",
    "\n",
    "    # why bother giving a list of just one macrostate-def tuple?  A Macrostate with a list of multiple tuples give the AND (i.e. intersection) of microstates.\n",
    "\n",
    "    completed_sc      = StopCondition(\"stop:COMPLETE\", [(disassoc_complex,Literals.dissoc_macrostate,0)])  # incumbent strand fell off\n",
    "    rejected_sc       = StopCondition(\"stop:REJECTED\", [(failed_complex,Literals.dissoc_macrostate,0)])    # incoming strand fell off\n",
    "\n",
    "    # join_concentration is not defined, because in this simulation we stop before there's any chance for association steps\n",
    "    o_exact = Options(simulation_mode=\"Transition\", dangles=\"Some\",\n",
    "                      num_simulations = 5, simulation_time=.01, temperature=310.15,\n",
    "                start_state=[start_complex], verbosity=0)\n",
    "    o_exact.DNA23Metropolis()\n",
    "    o_exact.stop_conditions = [start_sc, six_sc_exact, twelve_sc_exact, eighteen_sc_exact, completed_sc, rejected_sc]\n",
    "    o_loose = Options(simulation_mode=\"Transition\", dangles=\"Some\",\n",
    "                num_simulations = 5, simulation_time=.01, temperature=310.15,\n",
    "                start_state=[start_complex], verbosity=0)\n",
    "    o_loose.DNA23Metropolis()\n",
    "\n",
    "    o_loose.stop_conditions = [start_sc, six_sc_loose, twelve_sc_loose, eighteen_sc_loose, completed_sc, rejected_sc]\n",
    "    return o_exact, o_loose"
   ]
  },
  {
   "cell_type": "markdown",
   "metadata": {},
   "source": [
    "\n",
    "<p>Were you able to figure out the topology of the initial state,  <code>initial_structure_dp</code>, in the above? It looks like this:</p>"
   ]
  },
  {
   "attachments": {
    "3aa39717-bf0b-46ce-8a40-4ee5fd71e230.png": {
     "image/png": "[encoded data removed]"
    }
   },
   "cell_type": "markdown",
   "metadata": {},
   "source": [
    "![image.png](attachment:3aa39717-bf0b-46ce-8a40-4ee5fd71e230.png)"
   ]
  },
  {
   "cell_type": "markdown",
   "metadata": {},
   "source": [
    "<p>With this in mind, you'll be able to work out the other states, which are specified to have six, twelve and eighteen displaced base-pairs, respectively.</p>\n",
    "<p>To keep track of the progress of the three-way branch migration, the following helper functions are defined:</p>\n"
   ]
  },
  {
   "cell_type": "code",
   "execution_count": 5,
   "metadata": {},
   "outputs": [],
   "source": [
    "# mol will be a list of True/False for which transition macrostates the system has entered\n",
    "# so in_state(mol) returns True if the system is in at least one of the listed macrostates.\n",
    "def in_state( mol ): return sum(mol) > 0\n",
    "\n",
    "# mol is a Boolean descriptor of macrostate occupancy, like mol above.\n",
    "# a short-hand name for this macrostate (based on the order given in stop_conditions) is provided.\n",
    "def mol_name(mol):\n",
    "    charindex = 'ABCDEFGHIJKLMNOPQRSTUVWXYZ0'\n",
    "    names = [charindex[j] for i,j in zip(mol,range(len(mol))) if i]\n",
    "    if names == []:\n",
    "        names = charindex[26]\n",
    "    else:\n",
    "        names = \",\".join(names)\n",
    "    return names\n",
    "\n",
    "# t0 and t1 are Boolean descriptors of macrostate occupancy, like mol above.\n",
    "# here, we provide a printable name for the transition between two macrostate occupancy lists.\n",
    "def trans_name(t0,t1):\n",
    "    return mol_name(t0) + ' -> ' + mol_name(t1)\n",
    "\n",
    "def print_transitions( transition_traj ):\n",
    "    for t in transition_traj:\n",
    "        print(\"%12g : %s\" % ( t[0], mol_name(t[1])))"
   ]
  },
  {
   "cell_type": "code",
   "execution_count": 6,
   "metadata": {},
   "outputs": [],
   "source": [
    "# for each simulation, the transition trajectory reports the tuple (time_entered, which_macrostates_the_system_is_now_in)\n",
    "def parse_transition_lists( transition_traj_list ):\n",
    "    transition_dict = {}\n",
    "\n",
    "    # the mol1 --> mol2 transition times represent (time of entry into mol1) to (time of entry into mol2)\n",
    "    for transition_traj in transition_traj_list:\n",
    "        truncated = [i for i in transition_traj if in_state(i[1])]\n",
    "        tt = truncated # only keep the entry times and mol states for non-trivial mols\n",
    "\n",
    "        for i in range(len(tt)-1):\n",
    "            nm = trans_name(tt[i][1],tt[i+1][1])\n",
    "            if nm in transition_dict:\n",
    "                transition_dict[nm].append( tt[i+1][0] - tt[i][0] )\n",
    "            else:\n",
    "                transition_dict[nm] = [tt[i+1][0] - tt[i][0]]\n",
    "\n",
    "    return transition_dict\n",
    "\n",
    "def parse_transition_list( transition_traj_list ):\n",
    "    return parse_transition_lists( [transition_traj_list] )\n",
    "\n",
    "    \n",
    "def print_transition_dict( transition_dict, options = None ):\n",
    "    k = transition_dict.keys()\n",
    "    sorted(k) \n",
    "\n",
    "    for i in k:\n",
    "        transition_times = np.array( transition_dict[i] )\n",
    "        print(\"{0}: {2:.2e} ({1})\".format(i,len(transition_dict[i]),np.mean(transition_times)))\n",
    "    \n",
    "    # also print the true names of the macrostates, if an Options object is provided\n",
    "    charindex = 'ABCDEFGHIJKLMNOPQRSTUVWXYZ0'\n",
    "    if options:\n",
    "        for i,idx in zip(options.stop_conditions,range(len(options.stop_conditions))):\n",
    "            print(\"{0}: {1}\".format( i.tag, charindex[idx]))"
   ]
  },
  {
   "cell_type": "markdown",
   "metadata": {},
   "source": [
    "\n",
    "<p>We are now ready to start the simualtion.</p>\n"
   ]
  },
  {
   "cell_type": "code",
   "execution_count": 7,
   "metadata": {},
   "outputs": [
    {
     "name": "stdout",
     "output_type": "stream",
     "text": [
      "--- Running simulations ---\n",
      "--- Finished simulations ---\n"
     ]
    }
   ],
   "source": [
    "# Could take up to <10s to run\n",
    "\n",
    "print(\"--- Running simulations ---\")\n",
    "o_exact,o_loose = setup_options_threewaybm() \n",
    "\n",
    "# Try this too... The toehold dissociates much slower.\n",
    "#o_exact,o_loose = setup_options_threewaybm(bm_design=\"ACCGCACGTCCACGGTGTCG\") \n",
    "\n",
    "s=SimSystem(o_exact)\n",
    "s.start()\n",
    "print(\"--- Finished simulations ---\")"
   ]
  },
  {
   "cell_type": "markdown",
   "metadata": {},
   "source": [
    "\n",
    "<p>The following function plots the results for the exact macrostates. Internally, multistrand stores the time and macrostate whenever the simulation enters a macrostate. A transition between macrostates A and B is therefore registered if the simulation, currently in A, enters B before entering any other macrostate.</p>\n"
   ]
  },
  {
   "cell_type": "code",
   "execution_count": 10,
   "metadata": {},
   "outputs": [
    {
     "name": "stdout",
     "output_type": "stream",
     "text": [
      "\n",
      "--- Analysis of simulations by transitional states ---\n",
      "  Transitions from simulation #1:\n",
      "A -> A: 1.59e-06 (232)\n",
      "A -> B: 4.27e-05 (2)\n",
      "B -> B: 9.77e-06 (30)\n",
      "B -> A: 1.72e-05 (1)\n",
      "B -> C: 9.49e-05 (1)\n",
      "C -> C: 8.78e-06 (24)\n",
      "C -> D: 2.78e-05 (1)\n",
      "D -> D: 1.36e-06 (11)\n",
      "D -> E: 2.06e-06 (1)\n",
      "  Transitions averaged over all 5 simulations:\n",
      "A -> A: 1.90e-06 (5574)\n",
      "A -> B: 5.35e-05 (10)\n",
      "B -> B: 1.03e-05 (228)\n",
      "B -> A: 3.85e-05 (7)\n",
      "B -> C: 2.26e-04 (3)\n",
      "C -> C: 9.38e-06 (122)\n",
      "C -> D: 2.23e-05 (4)\n",
      "D -> D: 1.33e-06 (15)\n",
      "D -> E: 1.63e-06 (3)\n",
      "A -> F: 6.06e-06 (2)\n",
      "D -> C: 1.47e-04 (1)\n",
      "INITIAL: A\n",
      "SIX_EXACT: B\n",
      "TWELVE_EXACT: C\n",
      "EIGHTEEN_EXACT: D\n",
      "stop:COMPLETE: E\n",
      "stop:REJECTED: F\n"
     ]
    }
   ],
   "source": [
    "def print_results( o ):\n",
    "    print()\n",
    "    print(\"--- Analysis of simulations by transitional states ---\")\n",
    "    # print \"  Coarse-grained trajectory of simulation #1:\"\n",
    "    # print_transitions(o1.interface.transition_lists[0])\n",
    "    print(\"  Transitions from simulation #1:\")\n",
    "    parsedlist = parse_transition_list(o.interface.transition_lists[0])\n",
    "    print_transition_dict(parsedlist)\n",
    "    print(\"  Transitions averaged over all %d simulations:\" % o.num_simulations)\n",
    "    parsedlist = parse_transition_lists(o.interface.transition_lists)\n",
    "    print_transition_dict(parsedlist,o) # adds names for macrostates\n",
    "\n",
    "print_results(o_exact)"
   ]
  },
  {
   "cell_type": "markdown",
   "metadata": {},
   "source": [
    "\n",
    "<p>Between state A, the initial state, and state E, indicating succesful migration, and state F, indicating the disocciation of the invading strand from the complex, can you work out in how many simulations the migration was completed?</p>\n",
    "<p>We now run the same simulation, and report the time spent in the loose macrostates:</p>\n"
   ]
  },
  {
   "cell_type": "code",
   "execution_count": 11,
   "metadata": {},
   "outputs": [
    {
     "name": "stdout",
     "output_type": "stream",
     "text": [
      "\n",
      "--- Analysis of simulations by transitional states ---\n",
      "  Transitions from simulation #1:\n",
      "A -> A: 1.77e-06 (3238)\n",
      "A -> B: 4.89e-05 (3)\n",
      "B -> A: 3.62e-05 (3)\n",
      "B -> B: 7.28e-06 (38)\n",
      "A -> F: 8.68e-06 (1)\n",
      "  Transitions averaged over all 5 simulations:\n",
      "A -> A: 1.70e-06 (14475)\n",
      "A -> B: 3.21e-05 (13)\n",
      "B -> A: 3.75e-05 (12)\n",
      "B -> B: 7.33e-06 (298)\n",
      "A -> F: 1.53e-05 (3)\n",
      "B -> C: 8.69e-05 (1)\n",
      "C -> C: 6.86e-06 (119)\n",
      "C -> D: 8.74e-06 (1)\n",
      "D -> D: 7.54e-06 (3)\n",
      "D -> E: 2.91e-06 (1)\n",
      "INITIAL: A\n",
      "SIX_LOOSE: B\n",
      "TWELVE_LOOSE: C\n",
      "EIGHTEEN_LOOSE: D\n",
      "stop:COMPLETE: E\n",
      "stop:REJECTED: F\n"
     ]
    }
   ],
   "source": [
    "s=SimSystem(o_loose)\n",
    "s.start()\n",
    "print_results(o_loose)"
   ]
  },
  {
   "cell_type": "markdown",
   "metadata": {},
   "source": [
    "\n",
    "<p>The lesson here is similar to Tutorial 1. When exact macrostates are tracked, not much information is obtained because the system does not spend much time in each exact macrostate. Using a more relaxed macrostate, we are able to track the migration process in greater detail.</p>\n"
   ]
  }
 ],
 "metadata": {
  "kernelspec": {
   "display_name": "Python 3 (ipykernel)",
   "language": "python",
   "name": "python3"
  },
  "language_info": {
   "codemirror_mode": {
    "name": "ipython",
    "version": 3
   },
   "file_extension": ".py",
   "mimetype": "text/x-python",
   "name": "python",
   "nbconvert_exporter": "python",
   "pygments_lexer": "ipython3",
   "version": "3.10.8"
  }
 },
 "nbformat": 4,
 "nbformat_minor": 4
}
