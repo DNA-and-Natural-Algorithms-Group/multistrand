{
 "cells": [
  {
   "cell_type": "markdown",
   "metadata": {},
   "source": [
    "# Tutorial 2 - Hairpin trajectories "
   ]
  },
  {
   "cell_type": "markdown",
   "metadata": {},
   "source": [
    "This is a follow-up to Tutorial 1.  Here, rather than manually examining secondary structures of interest, we let a simulation run explore the full secondary structure energy landscape according to a Metropolis-biased random walk."
   ]
  },
  {
   "cell_type": "code",
   "execution_count": 1,
   "metadata": {
    "collapsed": true
   },
   "outputs": [],
   "source": [
    "from multistrand.objects import *\n",
    "from multistrand.options import Options\n",
    "from multistrand.system import SimSystem, energy"
   ]
  },
  {
   "cell_type": "markdown",
   "metadata": {},
   "source": [
    "More meaningful names for argument values to the energy() function call, below."
   ]
  },
  {
   "cell_type": "code",
   "execution_count": 2,
   "metadata": {
    "collapsed": true
   },
   "outputs": [],
   "source": [
    "Loop_Energy = 0    # requesting no dG_assoc or dG_volume terms to be added.  So only loop energies remain.\n",
    "Volume_Energy = 1  # requesting dG_volume but not dG_assoc terms to be added.  No clear interpretation for this.\n",
    "Complex_Energy = 2 # requesting dG_assoc but not dG_volume terms to be added.  This is the NUPACK complex microstate energy, sans symmetry terms.\n",
    "Tube_Energy = 3    # requesting both dG_assoc and dG_volume terms to be added.  Summed over complexes, this is the system state energy."
   ]
  },
  {
   "cell_type": "markdown",
   "metadata": {},
   "source": [
    "Results of the simulation are stored in the Options object `o` that was used to set up the simulation.  Since this is a \"Trajectory Mode\" simulation, we will extract the sequence of conformations visited, and print them.  Assumes a single strand is being simulated."
   ]
  },
  {
   "cell_type": "code",
   "execution_count": 3,
   "metadata": {
    "collapsed": true
   },
   "outputs": [],
   "source": [
    "def print_trajectory(o):\n",
    "    print o.full_trajectory[0][0][3]   # the strand sequence\n",
    "    print o.start_state[0].structure   # the starting structure\n",
    "    for i in range(len(o.full_trajectory)):\n",
    "        time = o.full_trajectory_times[i]\n",
    "        state = o.full_trajectory[i][0]\n",
    "        struct = state[4]\n",
    "        dG = state[5]\n",
    "        print struct + ' t=%11.9f seconds, dG=%6.2f kcal/mol' % (time, dG)"
   ]
  },
  {
   "cell_type": "markdown",
   "metadata": {},
   "source": [
    "Sequence is from Schaeffer's PhD thesis, chapter 7, figure 7.1 -- start with no base pairs formed."
   ]
  },
  {
   "cell_type": "code",
   "execution_count": 4,
   "metadata": {
    "collapsed": true
   },
   "outputs": [],
   "source": [
    "c = Complex( strands=[Strand(name=\"hairpin\", sequence=\"GTTCGGGCAAAAGCCCGAAC\")], structure= 20*'.' )"
   ]
  },
  {
   "cell_type": "markdown",
   "metadata": {},
   "source": [
    "*WARNING!*  Unfortunately, Multistrand currently does not test to check that the requested structure is valid.\n",
    "Providing an invalid structure is likely to lead to a core dump or segmentation fault."
   ]
  },
  {
   "cell_type": "code",
   "execution_count": 5,
   "metadata": {
    "collapsed": true
   },
   "outputs": [],
   "source": [
    "o = Options(temperature=25, dangles='Some', start_state = [c], \n",
    "            simulation_time = 0.0000001,  # 0.1 microseconds\n",
    "            num_simulations = 1,  # don't play it again, Sam\n",
    "            output_interval = 1,  # record every single step\n",
    "            rate_method = 'Metropolis', # the default is 'Kawasaki' (numerically, these are 1 and 2 respectively)\n",
    "            rate_scaling = 'Calibrated', # this is the same as 'Default'.  'Unitary' gives values 1.0 to both.  \n",
    "            simulation_mode = 'Trajectory')  # numerically 128.  See interface/_options/constants.py for more info about all this."
   ]
  },
  {
   "cell_type": "code",
   "execution_count": 6,
   "metadata": {
    "collapsed": false
   },
   "outputs": [
    {
     "name": "stdout",
     "output_type": "stream",
     "text": [
      "k_uni = 4.4e+08 /s, k_bi = 1.26e+06 /M/s\n"
     ]
    }
   ],
   "source": [
    "print \"k_uni = %g /s, k_bi = %g /M/s\" % (o.unimolecular_scaling, o.bimolecular_scaling)  # you can also set them to other values if you wantA"
   ]
  },
  {
   "cell_type": "markdown",
   "metadata": {},
   "source": [
    "This actually runs the simulation.  "
   ]
  },
  {
   "cell_type": "code",
   "execution_count": 7,
   "metadata": {
    "collapsed": false
   },
   "outputs": [
    {
     "name": "stdout",
     "output_type": "stream",
     "text": [
      "Count: 10 Time: 8.19643004287e-09\n",
      "Count: 20 Time: 8.1654369044e-08\n"
     ]
    }
   ],
   "source": [
    "s = SimSystem(o)\n",
    "s.start()"
   ]
  },
  {
   "cell_type": "markdown",
   "metadata": {},
   "source": [
    "*Important caveat*:  `SimSystem` will initialize the energy model according to information in Options `o` if the energy model has not yet been initialized.  But if prior calls have already initialized the energy model -- even if it's at another temperature or join_concentration -- then it will not be automatically re-initialized.  You would have to do this manually."
   ]
  },
  {
   "cell_type": "code",
   "execution_count": 8,
   "metadata": {
    "collapsed": false
   },
   "outputs": [
    {
     "name": "stdout",
     "output_type": "stream",
     "text": [
      "GTTCGGGCAAAAGCCCGAAC\n",
      "....................\n",
      ".....(........)..... t=0.000000002 seconds, dG=  1.81 kcal/mol\n",
      "....((........)).... t=0.000000002 seconds, dG=  0.21 kcal/mol\n",
      "....(((......))).... t=0.000000003 seconds, dG= -2.16 kcal/mol\n",
      "..(.(((......))).).. t=0.000000003 seconds, dG= -0.69 kcal/mol\n",
      "..(.((((....)))).).. t=0.000000004 seconds, dG= -2.48 kcal/mol\n",
      ".((.((((....)))).)). t=0.000000006 seconds, dG= -2.76 kcal/mol\n",
      ".((..(((....)))..)). t=0.000000007 seconds, dG= -0.54 kcal/mol\n",
      "..(..(((....)))..).. t=0.000000007 seconds, dG= -0.26 kcal/mol\n",
      ".((..(((....)))..)). t=0.000000008 seconds, dG= -0.54 kcal/mol\n",
      "(((..(((....)))..))) t=0.000000008 seconds, dG= -3.13 kcal/mol\n",
      "(((.((((....)))).))) t=0.000000008 seconds, dG= -5.35 kcal/mol\n",
      "((((((((....)))))))) t=0.000000011 seconds, dG=-10.37 kcal/mol\n",
      "(((((((......))))))) t=0.000000047 seconds, dG= -8.58 kcal/mol\n",
      "((((((((....)))))))) t=0.000000048 seconds, dG=-10.37 kcal/mol\n",
      "(((((((......))))))) t=0.000000050 seconds, dG= -8.58 kcal/mol\n",
      "((((((((....)))))))) t=0.000000051 seconds, dG=-10.37 kcal/mol\n",
      ".(((((((....))))))). t=0.000000053 seconds, dG= -7.78 kcal/mol\n",
      "((((((((....)))))))) t=0.000000053 seconds, dG=-10.37 kcal/mol\n",
      "(((((((......))))))) t=0.000000080 seconds, dG= -8.58 kcal/mol\n",
      "((((((((....)))))))) t=0.000000082 seconds, dG=-10.37 kcal/mol\n",
      "(((((((......))))))) t=0.000000113 seconds, dG= -8.58 kcal/mol\n"
     ]
    }
   ],
   "source": [
    "print_trajectory(o)"
   ]
  },
  {
   "cell_type": "markdown",
   "metadata": {},
   "source": [
    "Note that the simulation proceeds until the time limit has been EXCEEDED.  That means that, at the exact time specified, the system is in the PENULTIMATE state. \n",
    "\n",
    "Just FYI -- but this is important if you are sampling to get an \"equilibrium\" or time-dependent sample.  If you were to take the last state, and if that state is very short-lived, then you would over-sample it."
   ]
  },
  {
   "cell_type": "code",
   "execution_count": 9,
   "metadata": {
    "collapsed": true
   },
   "outputs": [],
   "source": [
    "def myplot():\n",
    "    import numpy as np\n",
    "    import matplotlib\n",
    "    import matplotlib.pylab as plt\n",
    "\n",
    "    times = o.full_trajectory_times\n",
    "    states = o.full_trajectory\n",
    "    energies = [s[0][5] for s in states]  # you can examine 'states' to see what other useful information is there\n",
    "\n",
    "    plt.figure(1)\n",
    "    plt.plot(times,energies,'go', times,energies,'g-')\n",
    "    plt.title(\"Energy landscape for simulated hairpin folding trajectory\")\n",
    "    plt.xlabel(\"Time (seconds)\",fontsize='larger')\n",
    "    plt.ylabel(\"Microstate Energy (kcal/mol)\",fontsize='larger')\n",
    "    plt.yticks(fontsize='larger',va='bottom')\n",
    "    plt.xticks(fontsize='larger')\n",
    "    plt.show()"
   ]
  },
  {
   "cell_type": "code",
   "execution_count": 10,
   "metadata": {
    "collapsed": false
   },
   "outputs": [
    {
     "data": {
      "image/png": "[encoded data removed]",
      "text/plain": [
       "<matplotlib.figure.Figure at 0x7fe160d9e650>"
      ]
     },
     "metadata": {},
     "output_type": "display_data"
    }
   ],
   "source": [
    "%matplotlib inline\n",
    "myplot()"
   ]
  },
  {
   "cell_type": "code",
   "execution_count": null,
   "metadata": {
    "collapsed": true
   },
   "outputs": [],
   "source": []
  }
 ],
 "metadata": {
  "kernelspec": {
   "display_name": "Python 2",
   "language": "python",
   "name": "python2"
  },
  "language_info": {
   "codemirror_mode": {
    "name": "ipython",
    "version": 2
   },
   "file_extension": ".py",
   "mimetype": "text/x-python",
   "name": "python",
   "nbconvert_exporter": "python",
   "pygments_lexer": "ipython2",
   "version": "2.7.6"
  }
 },
 "nbformat": 4,
 "nbformat_minor": 0
}
