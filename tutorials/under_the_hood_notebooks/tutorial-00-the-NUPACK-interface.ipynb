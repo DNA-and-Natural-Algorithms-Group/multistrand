{
 "cells": [
  {
   "cell_type": "markdown",
   "metadata": {},
   "source": [
    "# Tutorial 00 - The NUPACK interface"
   ]
  },
  {
   "cell_type": "markdown",
   "metadata": {},
   "source": [
    "Multistrand is equipped with Python wrapper functions for many of NUPACK's executables, including pfunc, energy, defect, prob, sample, mfe, and pairs. Here we provide usage examples for all provided wrapper functions. See the NUPACK User Manual for more information about the arguments to each executable. Many of these examples are adapted from examples provided with NUPACK.  Note that these functions assume you have NUPACK version 3.0.2 or higher. Certain functions, such as sample(), will not work with earlier versions of Nupack."
   ]
  },
  {
   "cell_type": "code",
   "execution_count": 1,
   "metadata": {
    "collapsed": true
   },
   "outputs": [],
   "source": [
    "# In general, the following arguments are required:\n",
    "#   sequences  - a list of DNA/RNA sequences\n",
    "#   structure  - a dot-paren structure (required by energy, prob, and defect)\n",
    "#   energy_gap - the max allowed energy gap from the minimum free energy (required by subopt)\n",
    "#   samples    - an integer specifying how many samples to draw (required by sample)\n",
    "#\n",
    "# The following optional arguments may also be included in all function calls:\n",
    "#   ordering   - a list of integer indices indicating the ordering of the given strand sequences\n",
    "#                in the complex, or None if each strand is distinguishable, occurs exactly once,\n",
    "#                and is ordered as in the sequences argument. Indices may be repeated to indicate\n",
    "#                identical, indistinguishable strands. This argument is ignored if multi == False.\n",
    "#                (default: None)\n",
    "#   material   - a string representing the material parameters to use (e.g. 'rna' or 'dna')\n",
    "#                The Nupack User Manual has a complete list of possible values.\n",
    "#                (default: 'rna')\n",
    "#   multi      - whether or not to allow multistrand structures with identical strands\n",
    "#                only works with DNA (default: True)\n",
    "#   pseudo     - whether or not to allow pseudoknotted structures\n",
    "#                only works with RNA (default: False)\n",
    "#   dangles    - 'none', 'all', or 'some' to specify what types of dangle corrections to use (default: 'some')\n",
    "#   T          - temperature of the system in degrees C (default: 37)\n",
    "#   sodium     - concentration of Na+ in molar (default: 1.0)\n",
    "#   magnesium  - concentration of Mg++ in molar (default: 0.0)\n",
    "#\n",
    "# The following optional arguments are allowed by only some functions:\n",
    "#   cutoff     - (for use with pairs) probabilities less than cutoff are excluded (default: 0.001)\n",
    "#   degenerate - (for use with mfe) degenerate structures are all returned (default: False)\n",
    "#   mfe        - (for use with defect) returns mfe defect rather than ensemble defect (default: False)\n"
   ]
  },
  {
   "cell_type": "markdown",
   "metadata": {},
   "source": [
    "Import the NUPACK wrapper:"
   ]
  },
  {
   "cell_type": "code",
   "execution_count": 2,
   "metadata": {
    "collapsed": false
   },
   "outputs": [
    {
     "name": "stdout",
     "output_type": "stream",
     "text": [
      "Python interface to NUPACK 3.0 (Pierce lab, Caltech, www.nupack.org) loaded.\n"
     ]
    }
   ],
   "source": [
    "from nupack import *"
   ]
  },
  {
   "cell_type": "code",
   "execution_count": 3,
   "metadata": {
    "collapsed": true
   },
   "outputs": [],
   "source": [
    "## Sequences used throughout this file:\n",
    "rna_seq = ['GGGCUGUUUUUCUCGCUGACUUUCAGCCCCAAACAAAAAAUGUCAGCA'];\n",
    "dna_seqs = ['AGTCTAGGATTCGGCGTGGGTTAA',\n",
    "            'TTAACCCACGCCGAATCCTAGACTCAAAGTAGTCTAGGATTCGGCGTG',\n",
    "            'AGTCTAGGATTCGGCGTGGGTTAACACGCCGAATCCTAGACTACTTTG']\n",
    "dna_struct = '((((((((((((((((((((((((+))))))))))))))))))))))))((((((((((((.(((((((((((+........................))))))))))).))))))))))))'"
   ]
  },
  {
   "cell_type": "markdown",
   "metadata": {},
   "source": [
    "### Examples with pfunc()\n",
    "\n",
    "Find the partition function of this set of three DNA strands."
   ]
  },
  {
   "cell_type": "code",
   "execution_count": 4,
   "metadata": {
    "collapsed": false
   },
   "outputs": [
    {
     "data": {
      "text/plain": [
       "-62.66453454292297"
      ]
     },
     "execution_count": 4,
     "metadata": {},
     "output_type": "execute_result"
    }
   ],
   "source": [
    "pfunc(dna_seqs, material = 'dna')"
   ]
  },
  {
   "cell_type": "markdown",
   "metadata": {},
   "source": [
    "Find the partition function of this single RNA strand, including pseudoknotted structures."
   ]
  },
  {
   "cell_type": "code",
   "execution_count": 5,
   "metadata": {
    "collapsed": false
   },
   "outputs": [
    {
     "data": {
      "text/plain": [
       "-17.2786076"
      ]
     },
     "execution_count": 5,
     "metadata": {},
     "output_type": "execute_result"
    }
   ],
   "source": [
    "pfunc(rna_seq, material = 'rna', multi = False, pseudo = True)"
   ]
  },
  {
   "cell_type": "markdown",
   "metadata": {},
   "source": [
    "### Examples with energy()"
   ]
  },
  {
   "cell_type": "markdown",
   "metadata": {},
   "source": [
    "Find the energy (in kcal/mol) of this DNA structure."
   ]
  },
  {
   "cell_type": "code",
   "execution_count": 6,
   "metadata": {
    "collapsed": false
   },
   "outputs": [
    {
     "data": {
      "text/plain": [
       "-61.79270283815892"
      ]
     },
     "execution_count": 6,
     "metadata": {},
     "output_type": "execute_result"
    }
   ],
   "source": [
    "energy(dna_seqs, dna_struct, material = 'dna')"
   ]
  },
  {
   "cell_type": "markdown",
   "metadata": {},
   "source": [
    "### Examples with defect()"
   ]
  },
  {
   "cell_type": "markdown",
   "metadata": {},
   "source": [
    "Find the ensemble defect of this DNA structure."
   ]
  },
  {
   "cell_type": "code",
   "execution_count": 7,
   "metadata": {
    "collapsed": false
   },
   "outputs": [
    {
     "data": {
      "text/plain": [
       "8.297"
      ]
     },
     "execution_count": 7,
     "metadata": {},
     "output_type": "execute_result"
    }
   ],
   "source": [
    "defect(dna_seqs, dna_struct, material = 'dna')"
   ]
  },
  {
   "cell_type": "markdown",
   "metadata": {},
   "source": [
    "Find the MFE defect of this DNA structure."
   ]
  },
  {
   "cell_type": "code",
   "execution_count": 8,
   "metadata": {
    "collapsed": false
   },
   "outputs": [
    {
     "data": {
      "text/plain": [
       "2.0"
      ]
     },
     "execution_count": 8,
     "metadata": {},
     "output_type": "execute_result"
    }
   ],
   "source": [
    "defect(dna_seqs, dna_struct, material = 'dna', mfe = True)"
   ]
  },
  {
   "cell_type": "markdown",
   "metadata": {},
   "source": [
    "### Examples with prob()"
   ]
  },
  {
   "cell_type": "markdown",
   "metadata": {},
   "source": [
    "Find the probability of this DNA structure."
   ]
  },
  {
   "cell_type": "code",
   "execution_count": 9,
   "metadata": {
    "collapsed": false
   },
   "outputs": [
    {
     "data": {
      "text/plain": [
       "7.992e-05"
      ]
     },
     "execution_count": 9,
     "metadata": {},
     "output_type": "execute_result"
    }
   ],
   "source": [
    "prob(dna_seqs, dna_struct, material = 'dna')"
   ]
  },
  {
   "cell_type": "markdown",
   "metadata": {},
   "source": [
    "### Examples with sample()"
   ]
  },
  {
   "cell_type": "markdown",
   "metadata": {},
   "source": [
    "Boltzmann sample 3 structures with these DNA strands."
   ]
  },
  {
   "cell_type": "code",
   "execution_count": 10,
   "metadata": {
    "collapsed": false
   },
   "outputs": [
    {
     "data": {
      "text/plain": [
       "['.(((((((((((((((((((((..+..)))))))))))))))))))))..(((((((((((((((((((((((+........................))))))))))))))))))))))).',\n",
       " '((((((((((((((((((((((..+..)))))))))))))))))))))).(((((((((((((((((((((((+..(.....)...............))))))))))))))))))))))).',\n",
       " '((((((((((((((((((((((((+))))))))))))))))))))))))(((((((((((((((((((((((.+......(.......)..........)))))))))))))))))))))))']"
      ]
     },
     "execution_count": 10,
     "metadata": {},
     "output_type": "execute_result"
    }
   ],
   "source": [
    "sample(dna_seqs, 3, material = 'dna')"
   ]
  },
  {
   "cell_type": "markdown",
   "metadata": {},
   "source": [
    "### Examples with mfe()"
   ]
  },
  {
   "cell_type": "markdown",
   "metadata": {},
   "source": [
    "Find the MFE structure of this ordering of DNA sequences (the energy is also provided)."
   ]
  },
  {
   "cell_type": "code",
   "execution_count": 11,
   "metadata": {
    "collapsed": false
   },
   "outputs": [
    {
     "data": {
      "text/plain": [
       "[('((((((((((((((((((((((((+))))))))))))))))))))))))((((((((((((((((((((((((+........................))))))))))))))))))))))))',\n",
       "  '-65.913')]"
      ]
     },
     "execution_count": 11,
     "metadata": {},
     "output_type": "execute_result"
    }
   ],
   "source": [
    "mfe(dna_seqs, material = 'dna')"
   ]
  },
  {
   "cell_type": "markdown",
   "metadata": {},
   "source": [
    "### Examples with pairs()"
   ]
  },
  {
   "cell_type": "markdown",
   "metadata": {},
   "source": [
    "Find the pair probabilities of the following unpseudoknotted DNA strands.  The output is a list of tuples of the form (i, j, p) where p is the probability that the ith and jth bases are bound."
   ]
  },
  {
   "cell_type": "code",
   "execution_count": 12,
   "metadata": {
    "collapsed": false
   },
   "outputs": [
    {
     "data": {
      "text/plain": [
       "[(1, 7, 0.031271),\n",
       " (1, 8, 0.049495),\n",
       " (2, 5, 0.2163),\n",
       " (3, 6, 0.73677),\n",
       " (1, 9, 0.91923),\n",
       " (2, 9, 0.7837),\n",
       " (3, 9, 0.26323),\n",
       " (4, 9, 1.0),\n",
       " (5, 9, 0.7837),\n",
       " (6, 9, 0.26323),\n",
       " (7, 9, 0.96873),\n",
       " (8, 9, 0.95051)]"
      ]
     },
     "execution_count": 12,
     "metadata": {},
     "output_type": "execute_result"
    }
   ],
   "source": [
    "pairs(['ACGT','GCTT'], material = 'dna')"
   ]
  },
  {
   "cell_type": "code",
   "execution_count": null,
   "metadata": {
    "collapsed": true
   },
   "outputs": [],
   "source": []
  }
 ],
 "metadata": {
  "kernelspec": {
   "display_name": "Python 2",
   "language": "python",
   "name": "python2"
  },
  "language_info": {
   "codemirror_mode": {
    "name": "ipython",
    "version": 2
   },
   "file_extension": ".py",
   "mimetype": "text/x-python",
   "name": "python",
   "nbconvert_exporter": "python",
   "pygments_lexer": "ipython2",
   "version": "2.7.6"
  }
 },
 "nbformat": 4,
 "nbformat_minor": 0
}
