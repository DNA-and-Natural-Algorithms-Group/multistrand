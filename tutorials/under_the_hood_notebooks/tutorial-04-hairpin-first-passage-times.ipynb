{
 "cells": [
  {
   "cell_type": "markdown",
   "metadata": {},
   "source": [
    "# Tutorial 4 - Hairpin first passage times"
   ]
  },
  {
   "cell_type": "markdown",
   "metadata": {},
   "source": [
    "Here we ask Multistrand to simulate the folding of an open strand into a hairpin, and stop when it's done.  This mode, **First Passage Time Mode**, requires us to specific a start state and a recognizable stop condition (i.e. entering a macrostate), and Multistrand returns the total time it took.  Running a lot of simulations and plotting histograms and completion fractions can provide insight into the process -- and its stochastic variability."
   ]
  },
  {
   "cell_type": "code",
   "execution_count": 1,
   "metadata": {
    "collapsed": true
   },
   "outputs": [],
   "source": [
    "import numpy as np\n",
    "import matplotlib\n",
    "import matplotlib.pylab as plt\n",
    "%matplotlib inline\n",
    "\n",
    "from multistrand.objects import *\n",
    "from multistrand.options import Options\n",
    "from multistrand.system import SimSystem"
   ]
  },
  {
   "cell_type": "markdown",
   "metadata": {},
   "source": [
    "#### This is first passage time"
   ]
  },
  {
   "cell_type": "code",
   "execution_count": 2,
   "metadata": {
    "collapsed": true
   },
   "outputs": [],
   "source": [
    "# for StopCondition and Macrostate definitions:\n",
    "Exact_Macrostate = 0   # match a secondary structure exactly (i.e. any system state that has a complex with this exact structure)\n",
    "Bound_Macrostate = 1   # match any system state in which the given strand is bound to another strand\n",
    "Dissoc_Macrostate = 2  # match any system state in which there exists a complex with exactly the given strands, in that order\n",
    "Loose_Macrostate = 3   # match a secondary structure with \"don't care\"s, allowing a certain number of disagreements\n",
    "Count_Macrostate = 4   # match a secondary structure, allowing a certain number of disagreements\n",
    "# see Schaeffer's PhD thesis, chapter 7.2, for more information"
   ]
  },
  {
   "cell_type": "code",
   "execution_count": 3,
   "metadata": {
    "collapsed": true
   },
   "outputs": [],
   "source": [
    "def setup_options_hairpin(trials, stem_seq, hairpin_seq):\n",
    "\n",
    "    # Define the domains\n",
    "    stem = Domain(name=\"stem\",sequence=stem_seq,length=len(stem_seq))\n",
    "    hairpin = Domain(name=\"hairpin\", sequence=hairpin_seq,length=len(hairpin_seq))\n",
    "    s = stem + hairpin + stem.C\n",
    "    \n",
    "    # We give domain-level structures for the open and closed hairpin configurations\n",
    "    start_complex = Complex(strands=[s], structure=\"...\")\n",
    "    stop_complex  = Complex(strands=[s], structure=\"(.)\")\n",
    "    full_sc       = StopCondition( \"CLOSED\", [(stop_complex,Exact_Macrostate,0)])\n",
    "    # Note: unlike in Transition Mode, in First Passage Time Mode, no \"stop:\" prefix is needed in the macrostate name\n",
    "    # in order for the StopCondition to trigger the end of the simulation.\n",
    "\n",
    "    o = Options(simulation_mode=\"First Passage Time\",parameter_type=\"Nupack\",substrate_type=\"DNA\", temperature=310.15,\n",
    "                num_simulations = trials, simulation_time=0.1, rate_scaling='Calibrated', verbosity=0,\n",
    "                start_state=[start_complex], stop_conditions=[full_sc])\n",
    "\n",
    "    return o"
   ]
  },
  {
   "cell_type": "markdown",
   "metadata": {},
   "source": [
    "The simulation is easy. There's more fuss and bother to define how to plot the results."
   ]
  },
  {
   "cell_type": "code",
   "execution_count": 4,
   "metadata": {
    "collapsed": true
   },
   "outputs": [],
   "source": [
    "def plot_histograms( result_lists, colors=['b','r','c','m','g','k'], figure=1, labels=None ):\n",
    "    times = []\n",
    "    for n in range(len(result_lists)):\n",
    "        times.append(1e6* np.array([ i.time for i in result_lists[n] ]))    # convert from seconds to microseconds units.\n",
    "\n",
    "    min_time = np.min( [np.min(times[n]) for n in range(len(result_lists)) ] )\n",
    "    max_time = np.max( [np.max(times[n]) for n in range(len(result_lists)) ] )\n",
    "\n",
    "    plt.figure( figure )\n",
    "    plt.hold(False)\n",
    "    for n in range(len(result_lists)):\n",
    "        plt.hist( times[n], 50, range=(min_time,max_time), color = colors[n], label=labels[n], rwidth=(1-n*1.0/len(result_lists)) )\n",
    "        plt.hold(True)\n",
    "\n",
    "    plt.title(\"Folding times for two hairpin sequences\")\n",
    "    plt.xlabel(\"First Passage Time (us)\",fontsize='larger')\n",
    "    plt.ylabel(\"# of Trajectories\",fontsize='larger')\n",
    "    plt.yticks(fontsize='larger',va='bottom')\n",
    "    plt.xticks(fontsize='larger')\n",
    "    plt.legend(loc=0)\n",
    "    plt.show()\n",
    "\n",
    "def plot_completion_graph( result_lists, colors=['b','r','c','m','g','k'], figure=1, labels=None ):\n",
    "    times = []\n",
    "    percents = []\n",
    "    if labels==None:\n",
    "        labels=[str(n) for n in range(1,1+len(result_lists))]\n",
    "    if len(labels) < len(colors):\n",
    "        colors = colors[:len(labels)]\n",
    "\n",
    "    for rl in result_lists:\n",
    "        n = len(rl)\n",
    "        t = [i.time for i in rl]\n",
    "        t.sort()\n",
    "        times.append(np.array(t))\n",
    "\n",
    "        p = np.array(range(1,len(t)+1))\n",
    "        p = 100 * p / n  # percentage of all trials\n",
    "        percents.append( p )\n",
    "\n",
    "    plt.figure( figure )\n",
    "    plt.hold(False)\n",
    "\n",
    "    for t,p,c,label in zip(times,percents,colors,labels):\n",
    "        plt.plot( 1e6 * t, p, color = c, linewidth=2.0, label=label )\n",
    "        plt.hold(True)\n",
    "\n",
    "    plt.xlabel(\"Simulation Time (us)\",fontsize='larger')\n",
    "    plt.ylabel(\"% of Trajectories Complete\",fontsize='larger')\n",
    "    plt.yticks([0,20,40,60,80,100],(\"0%\",\"20%\",\"40%\",\"60%\",\"80%\",\"100%\"),fontsize='larger',va='bottom')\n",
    "    plt.xticks(fontsize='larger')\n",
    "    plt.title( \"Percentage of Total Trajectories Complete by a Given Time\" )\n",
    "    plt.legend(loc=0)\n",
    "    plt.show()"
   ]
  },
  {
   "cell_type": "code",
   "execution_count": 5,
   "metadata": {
    "collapsed": true
   },
   "outputs": [],
   "source": [
    "# First Passage Time Mode doesn't store the full trajectory.  But it gives the random number seed used on a given simulation.\n",
    "# So we can re-run interesting simulations to see what happened.\n",
    "# Here, we also show how to run a Trajectory Mode simulation with a StopCondition (rather than time-out).\n",
    "def show_interesting_trajectories( result_lists, seqs, type='fastest' ):\n",
    "    mintimes = []\n",
    "    maxtimes = []\n",
    "    slowseeds = []\n",
    "    fastseeds = []\n",
    "    for n in range(len(result_lists)):\n",
    "        times = 1e6* np.array([ i.time for i in result_lists[n] ])    # convert from seconds to microseconds units.\n",
    "        slowseeds.append( result_lists[n][np.argmax( times )].seed )  # find the seed used for the slowest simulation\n",
    "        fastseeds.append( result_lists[n][np.argmin( times )].seed )  # find the seed used for the fastest simulation\n",
    "        mintimes.append( np.min( times ) )\n",
    "        maxtimes.append( np.max( times ) )\n",
    "\n",
    "    # taken from hairpin_trajectories.py\n",
    "    def print_trajectory(o):\n",
    "        print o.full_trajectory[0][0][3]   # the strand sequence\n",
    "        print o.start_state[0].structure\n",
    "        for i in range(len(o.full_trajectory)):\n",
    "            time = 1e6* o.full_trajectory_times[i]\n",
    "            state = o.full_trajectory[i][0]\n",
    "            struct = state[4]\n",
    "            dG = state[5]\n",
    "            print struct + ' t=%11.9f microseconds, dG=%6.2f kcal/mol' % (time, dG)\n",
    "\n",
    "    # take a look at the fastest folds.  to take a look at the more interesting slowest folds,\n",
    "    # change \"mintimes\" to \"maxtimes\" and change \"fastseeds\" to \"slowseeds\"; do this based on 'type' argument\n",
    "    seeds = fastseeds if type=='fastest' else slowseeds\n",
    "    times = mintimes if type=='fastest' else maxtimes\n",
    "    for (seq,seed,time) in zip(seqs,seeds,times):\n",
    "        s1 = Strand(name=\"hairpin\", sequence=seq)\n",
    "        c1 = Complex( strands=[s1], structure=16*'.' )             # hard-coded length 16\n",
    "        c2 = Complex( strands=[s1], structure=\"((((((....))))))\")  # hard-coded stem length 6, loop length 4\n",
    "        sc  = StopCondition( \"CLOSED\", [(c2,Exact_Macrostate,0)])\n",
    "        # For future reference, StopConditions and Macrostates (same thing) are provided as a list of match conditions,\n",
    "        # all of which must be matched.  I.e. there is an implicit AND being evaluated.  E.g. \n",
    "        # sc = StopCondition( \"EXAMPLE\", [(c2,Loose_Macrostate,8), (c1,Loose_Macrostate,4)]\n",
    "        # would specify the intersection of those two macrostates, i.e. any 2 base pairs of the helix (and maybe more).\n",
    "\n",
    "        o = Options(temperature=310.15, dangles='Some', start_state = [c1], \n",
    "            simulation_time = 0.1,  # 0.1 seconds  (lots more time than hairpin_trajectories, to accommodate slow folds)\n",
    "            num_simulations = 1,  # don't play it again, Sam\n",
    "            output_interval = 1,  # record every single step\n",
    "            rate_method = 'Metropolis', # the default is 'Kawasaki' (numerically, these are 1 and 2 respectively)\n",
    "            rate_scaling = 'Calibrated', # this is the same as 'Default'.  'Unitary' gives values 1.0 to both.  \n",
    "            simulation_mode = 'Trajectory')  # numerically 128.  See interface/_options/constants.py for more info about all this.\n",
    "        o.stop_conditions=[sc]               # don't wait for the time-out\n",
    "        o.initial_seed = seed                # start with the same random seed as before...  \n",
    "\n",
    "        s = SimSystem(o)\n",
    "        s.start()\n",
    "        print_trajectory(o)        \n",
    "        print \"Original run's time: %g microseconds\" % time"
   ]
  },
  {
   "cell_type": "code",
   "execution_count": 6,
   "metadata": {
    "collapsed": true
   },
   "outputs": [],
   "source": [
    "def run_sims():\n",
    "    print \"Performing simulations...\"\n",
    "    # compare closing of stems based on possible kinetic traps\n",
    "    o1 = setup_options_hairpin(trials=1000, stem_seq = \"GCATGC\", hairpin_seq=\"TTTT\")  # 2-base misaligned GC pairing possible\n",
    "    o2 = setup_options_hairpin(trials=1000, stem_seq = \"GGCGGC\", hairpin_seq=\"TTTT\")  # 3-base misaligned GGC pairing possible\n",
    "    o3 = setup_options_hairpin(trials=1000, stem_seq = \"GCCGCG\", hairpin_seq=\"TTTT\")  # strong stem, but no significant misaligned pairing\n",
    "    o4 = setup_options_hairpin(trials=1000, stem_seq = \"ATTATA\", hairpin_seq=\"TTTT\")  # weak stem, no significant misaligned pairing\n",
    "\n",
    "    s=SimSystem(o1)\n",
    "    s.start()\n",
    "    s=SimSystem(o2)\n",
    "    s.start()\n",
    "    s=SimSystem(o3)\n",
    "    s.start()\n",
    "    s=SimSystem(o4)\n",
    "    s.start()\n",
    "    # all these simulations are at the same join_concentration and temperature,\n",
    "    # so there's no need to re-initialize the energy model before each one.\n",
    "\n",
    "\n",
    "    all_results = [o.interface.results for o in [o1, o2, o3, o4]]\n",
    "    all_seqs    = [o.start_state[0].sequence for o in [o1, o2, o3, o4]]\n",
    "\n",
    "    print \"Plotting results...\"\n",
    "    plot_histograms(all_results, figure=1, labels=all_seqs)\n",
    "    plot_completion_graph(all_results, figure=2, labels=all_seqs)\n",
    "    # conclusions: \n",
    "    #    weak stem forms slowly, but without traps.\n",
    "    #    stronger stems form quickly, but if 3-base misalignment is possible, it may take a long time\n",
    "\n",
    "    special = 'fastest'   # or 'slowest', if you wish, but these trajectories involve many many steps!\n",
    "    print \"Showing the %s trajectories for each hairpin sequence...\" % special\n",
    "    show_interesting_trajectories(all_results, all_seqs, special)\n"
   ]
  },
  {
   "cell_type": "markdown",
   "metadata": {},
   "source": [
    "OK, time to actually run the simulations."
   ]
  },
  {
   "cell_type": "code",
   "execution_count": 7,
   "metadata": {
    "collapsed": false
   },
   "outputs": [
    {
     "name": "stdout",
     "output_type": "stream",
     "text": [
      "Performing simulations...\n",
      "Plotting results...\n"
     ]
    },
    {
     "data": {
      "image/png": "[encoded data removed]",
      "text/plain": [
       "<matplotlib.figure.Figure at 0x10e114150>"
      ]
     },
     "metadata": {},
     "output_type": "display_data"
    },
    {
     "data": {
      "image/png": "[encoded data removed]",
      "text/plain": [
       "<matplotlib.figure.Figure at 0x10ea5a2d0>"
      ]
     },
     "metadata": {},
     "output_type": "display_data"
    },
    {
     "name": "stdout",
     "output_type": "stream",
     "text": [
      "Showing the fastest trajectories for each hairpin sequence...\n",
      "GCATGCTTTTGCATGC\n",
      "................\n",
      "(..............) t=0.001031155 microseconds, dG=  3.60 kcal/mol\n",
      "((............)) t=0.001045078 microseconds, dG=  1.26 kcal/mol\n",
      "(((..........))) t=0.001374474 microseconds, dG= -0.17 kcal/mol\n",
      "(((.(......).))) t=0.001512538 microseconds, dG=  0.31 kcal/mol\n",
      "(((.((....)).))) t=0.001559573 microseconds, dG= -2.83 kcal/mol\n",
      "((((((....)))))) t=0.001590837 microseconds, dG= -6.16 kcal/mol\n",
      "Original run's time: 0.00159084 microseconds\n",
      "GGCGGCTTTTGCCGCC\n",
      "................\n",
      ".....(....)..... t=0.000096955 microseconds, dG=  1.15 kcal/mol\n",
      "..(..(....)..).. t=0.000260229 microseconds, dG=  1.85 kcal/mol\n",
      ".((..(....)..)). t=0.000565808 microseconds, dG= -0.31 kcal/mol\n",
      ".((.((....)).)). t=0.000601655 microseconds, dG= -2.25 kcal/mol\n",
      ".(((((....))))). t=0.000699386 microseconds, dG= -7.26 kcal/mol\n",
      "((((((....)))))) t=0.000975618 microseconds, dG= -8.23 kcal/mol\n",
      "Original run's time: 0.000975618 microseconds\n",
      "GCCGCGTTTTCGCGGC\n",
      "................\n",
      "..(..........).. t=0.000101750 microseconds, dG=  2.34 kcal/mol\n",
      ".((..........)). t=0.000572517 microseconds, dG=  0.51 kcal/mol\n",
      ".(((........))). t=0.000575432 microseconds, dG= -1.66 kcal/mol\n",
      ".((((......)))). t=0.000790635 microseconds, dG= -4.20 kcal/mol\n",
      "(((((......))))) t=0.001174522 microseconds, dG= -5.49 kcal/mol\n",
      "((((((....)))))) t=0.001186023 microseconds, dG= -8.56 kcal/mol\n",
      "Original run's time: 0.00118602 microseconds\n",
      "Count: 10 Time: 3.22893301395e-09\n",
      "ATTATATTTTTATAAT\n",
      "................\n",
      ".(...........).. t=0.000810654 microseconds, dG=  3.53 kcal/mol\n",
      ".(..(......).).. t=0.001034812 microseconds, dG=  5.33 kcal/mol\n",
      ".(..((....)).).. t=0.001108170 microseconds, dG=  3.95 kcal/mol\n",
      "....((....)).... t=0.001267316 microseconds, dG=  1.70 kcal/mol\n",
      "(...((....)))... t=0.001572158 microseconds, dG=  4.79 kcal/mol\n",
      "....((....)).... t=0.001696162 microseconds, dG=  1.70 kcal/mol\n",
      "..(.((....)).).. t=0.001803105 microseconds, dG=  2.85 kcal/mol\n",
      ".((.((....)).)). t=0.002172892 microseconds, dG=  1.70 kcal/mol\n",
      ".(((((....))))). t=0.002200039 microseconds, dG= -0.76 kcal/mol\n",
      "((((((....)))))) t=0.003228933 microseconds, dG= -1.27 kcal/mol\n",
      "Original run's time: 0.00322893 microseconds\n"
     ]
    }
   ],
   "source": [
    "run_sims()"
   ]
  },
  {
   "cell_type": "code",
   "execution_count": null,
   "metadata": {
    "collapsed": true
   },
   "outputs": [],
   "source": []
  }
 ],
 "metadata": {
  "kernelspec": {
   "display_name": "Python 2",
   "language": "python",
   "name": "python2"
  },
  "language_info": {
   "codemirror_mode": {
    "name": "ipython",
    "version": 2
   },
   "file_extension": ".py",
   "mimetype": "text/x-python",
   "name": "python",
   "nbconvert_exporter": "python",
   "pygments_lexer": "ipython2",
   "version": "2.7.6"
  }
 },
 "nbformat": 4,
 "nbformat_minor": 0
}
