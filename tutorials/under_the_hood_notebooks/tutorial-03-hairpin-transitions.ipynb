{
 "cells": [
  {
   "cell_type": "markdown",
   "metadata": {},
   "source": [
    "\n",
    "<h1 id=\"Tutorial-3---Hairpin-transitions\">Tutorial 3 - Hairpin transitions<a class=\"anchor-link\" href=\"#Tutorial-3---Hairpin-transitions\">¶</a></h1>\n"
   ]
  },
  {
   "cell_type": "markdown",
   "metadata": {},
   "source": [
    "\n",
    "<p>Having seen how the simulation generates trajectories in Tutorial 2 -  Hairpin Trajectories, here we extract some information from the trajectories.  Using the example of Chapter 7.3 of Schaeffer's PhD thesis, this script shows how to use macrostate definitions and Transition Mode to extract a coarse-grained description of the system's motion through state space.</p>\n",
    "<p>This mode requires a little more post-processing of the Multistrand simulations... but don't be put off.  It's easy.</p>\n",
    "<p>Note that the transition times listed here are briefer than those that appear in the tables of Chapter 7.3 of Schaeffer's thesis.  That is because we are using different unimolecular and bimolecular rate constant values.</p>\n"
   ]
  },
  {
   "cell_type": "code",
   "execution_count": 8,
   "metadata": {},
   "outputs": [],
   "source": [
    "from multistrand.objects import *\n",
    "from multistrand.options import Options, Literals\n",
    "from multistrand.system import SimSystem\n",
    "import numpy as np"
   ]
  },
  {
   "cell_type": "markdown",
   "metadata": {},
   "source": [
    "\n",
    "<p>For <code>StopCondition</code> and <code>Macrostate</code> definitions:</p>\n"
   ]
  },
  {
   "cell_type": "markdown",
   "metadata": {},
   "source": [
    "\n",
    "<h4 id=\"Setup-options-for-simulation\">Setup options for simulation<a class=\"anchor-link\" href=\"#Setup-options-for-simulation\">¶</a></h4>\n"
   ]
  },
  {
   "cell_type": "code",
   "execution_count": 14,
   "metadata": {},
   "outputs": [],
   "source": [
    "def setup_options_hairpin():\n",
    "    \"\"\"\n",
    "    setup_options_hairpin( )\n",
    "\n",
    "    Returns the options object for simple hairpin example of\n",
    "    transition mode in Chapter 7.3 of Schaeffer's PhD thesis.\n",
    "    \"\"\"\n",
    "\n",
    "    # Once domains are defined, strands can be built from them using \"+\".\n",
    "    stem = Domain(name=\"stem\",sequence=\"GCATGC\",length=6)\n",
    "    hp = Domain(name=\"hairpin\", sequence=\"AAAA\",length=4)\n",
    "    s = stem + hp + stem.C\n",
    "    \n",
    "    # Note that because we defined domains, we can either represent secondary structures at the domain level or at the sequence level.\n",
    "    start_complex = Complex(strands=[s], structure=\"...\")\n",
    "    pathway_endside_exact_complex = Complex(strands=[s], structure=\"(((..........)))\")\n",
    "    pathway_endside_loose_complex = Complex(strands=[s], structure=\"(((**********)))\")\n",
    "    pathway_hpside_exact_complex = Complex(strands=[s],  structure=\"...(((....)))...\")\n",
    "    pathway_hpside_loose_complex = Complex(strands=[s],  structure=\"***(((****)))***\")\n",
    "    full_complex = Complex( strands=[s], structure=\"(.)\")\n",
    "\n",
    "    # Define macrostates to be tracked, i.e. we look for transitions between them.\n",
    "    initial_sc           = Macrostate( \"INITIAL\", [(start_complex,Literals.exact_macrostate,0)])\n",
    "    pathway_hp_exact_sc  = Macrostate( \"HPSIDE_EXACT\", [(pathway_hpside_exact_complex,Literals.exact_macrostate,0)])\n",
    "    pathway_hp_loose_sc  = Macrostate( \"HPSIDE_LOOSE\", [(pathway_hpside_loose_complex,Literals.loose_macrostate,2)])   # within distance 2 \n",
    "    pathway_end_exact_sc = Macrostate( \"ENDSIDE_EXACT\", [(pathway_endside_exact_complex,Literals.exact_macrostate,0)])\n",
    "    pathway_end_loose_sc = Macrostate( \"ENDSIDE_LOOSE\", [(pathway_endside_loose_complex,Literals.loose_macrostate,2)]) # within distance 2 \n",
    "    full_sc              = StopCondition( \"stop:FULL\", [(full_complex,Literals.exact_macrostate,0)])\n",
    "    # Multistrand treats Macrostates and StopConditions interchangeably; here we choose the name as a mnemonic for how it will be used.\n",
    "    # The simulation will stop the first time that 'full_sc' is reached, so we call it a StopCondition.\n",
    "    # The simulation keeps track of where it is, but keeps going, when it visits the others -- so they are called Macrostates.\n",
    "    # But the simulation would proceed identically if randomly called some Macrostates and others StopConditions.  \n",
    "    # What determines Multistrand's behavior is that the name of 'full_sc' begins with \"stop:\" -- this is what causes the simulation to stop when 'full_sc' is reached.\n",
    "\n",
    "    # We will set up two Transition Mode simulations, one looking at transitions between exact states...\n",
    "    o_exact = Options(simulation_mode=\"Transition\",substrate_type=\"DNA\", num_simulations = 1000, simulation_time=.01, start_state=[start_complex], verbosity=0)\n",
    "    o_exact.JSKawasaki37()\n",
    "    o_exact.stop_conditions = [initial_sc, pathway_end_exact_sc, pathway_hp_exact_sc,full_sc]\n",
    "\n",
    "    # ... and one looking at transitions between loosely defined macrostates\n",
    "    o_loose = Options(simulation_mode=\"Transition\",parameter_type=\"Nupack\",substrate_type=\"DNA\", temperature=310.15,\n",
    "                num_simulations = 1000, simulation_time=.01, start_state=[start_complex], verbosity=0)\n",
    "    o_loose.stop_conditions = [initial_sc, pathway_end_loose_sc, pathway_hp_loose_sc,full_sc]\n",
    "    o_loose.JSKawasaki37()\n",
    "    \n",
    "    # change verbosity to 1, above, and you'll see a print-out during the simulation runs, every time a stop state is reached.\n",
    "\n",
    "    return o_exact,o_loose"
   ]
  },
  {
   "cell_type": "markdown",
   "metadata": {},
   "source": [
    "\n",
    "<h4 id=\"Some-helper-code-follows.\">Some helper code follows.<a class=\"anchor-link\" href=\"#Some-helper-code-follows.\">¶</a></h4><p>The following naming routines are motivated by the observation that when \"loose\" macrostates are used, it is possible that a given system state may belong to more than one macrostate.  Thus, transitions are not between macrostates per se, but are between macrostate membership vectors.  I.e. if the macrostates are A, B, C, and D, then a single simulation step might take the system state from being in both A and C, to being in B, C, and D.  And perhaps thence to being in no macrostates.</p>\n"
   ]
  },
  {
   "cell_type": "code",
   "execution_count": 15,
   "metadata": {},
   "outputs": [],
   "source": [
    "# mol will be a list of True/False for which transition macrostates the system has entered,\n",
    "# so in_state(mol) returns True if the system is in at least one of the listed macrostates.\n",
    "def in_state( mol ): return sum(mol) > 0\n",
    "\n",
    "# mol is a Boolean descriptor of macrostate occupancy, like mol above.\n",
    "# a short-hand name for this macrostate (based on the order given in stop_conditions) is provided.\n",
    "def mol_name(mol):\n",
    "    charindex = 'ABCDEFGHIJKLMNOPQRSTUVWXYZ0'\n",
    "    names = [charindex[j] for i,j in zip(mol,range(len(mol))) if i]\n",
    "    if names == []:\n",
    "        names = charindex[26]\n",
    "    else:\n",
    "        names = \",\".join(names)\n",
    "    return names\n",
    "\n",
    "# t0 and t1 are Boolean descriptors of macrostate occupancy, like mol above.\n",
    "# here, we provide a printable name for the transition between two macrostate occupancy lists.\n",
    "def trans_name(t0,t1):\n",
    "    return mol_name(t0) + ' -> ' + mol_name(t1)\n",
    "\n",
    "def print_transitions( transition_traj ):\n",
    "    for t in transition_traj:\n",
    "        print(\"%12g : %s\" % ( t[0], mol_name(t[1]) ))\n",
    "                  \n",
    "# for each simulation, the transition trajectory reports the tuple (time_entered, which_macrostates_the_system_is_now_in)\n",
    "def parse_transition_lists( transition_traj_list ):\n",
    "    transition_dict = {}\n",
    "\n",
    "    # the mol1 --> mol2 transition times represent (time of entry into mol1) to (time of entry into mol2)\n",
    "    for transition_traj in transition_traj_list:\n",
    "        truncated = [i for i in transition_traj if in_state(i[1])]\n",
    "        tt = truncated # only keep the entry times and mol states for non-trivial mols\n",
    "\n",
    "        for i in range(len(tt)-1):\n",
    "            nm = trans_name(tt[i][1],tt[i+1][1])\n",
    "            if nm in transition_dict:\n",
    "                transition_dict[nm].append( tt[i+1][0] - tt[i][0] )\n",
    "            else:\n",
    "                transition_dict[nm] = [tt[i+1][0] - tt[i][0]]\n",
    "\n",
    "    return transition_dict\n",
    "\n",
    "def parse_transition_list( transition_traj_list ):\n",
    "    return parse_transition_lists( [transition_traj_list] )\n",
    "\n",
    "    \n",
    "def print_transition_dict( transition_dict, options = None ):\n",
    "    k = transition_dict.keys()\n",
    "    sorted(k)\n",
    "\n",
    "    for i in k:\n",
    "        transition_times = np.array( transition_dict[i] )\n",
    "        print(\"{0}: {2:.2e} ({1})\".format(i,len(transition_dict[i]),np.mean(transition_times)))\n",
    "    \n",
    "    # also print the true names of the macrostates, if an Options object is provided\n",
    "    charindex = 'ABCDEFGHIJKLMNOPQRSTUVWXYZ0'\n",
    "    if options:\n",
    "        for i,idx in zip(options.stop_conditions,range(len(options.stop_conditions))):\n",
    "            print(\"{0}: {1}\".format( i.tag, charindex[idx]))\n"
   ]
  },
  {
   "cell_type": "markdown",
   "metadata": {},
   "source": [
    "\n",
    "<h4 id=\"Back-to-stuff-to-try...-automatically-or-by-hand,-line-by-line\">Back to stuff to try... automatically or by hand, line-by-line<a class=\"anchor-link\" href=\"#Back-to-stuff-to-try...-automatically-or-by-hand,-line-by-line\">¶</a></h4>\n"
   ]
  },
  {
   "cell_type": "code",
   "execution_count": 16,
   "metadata": {},
   "outputs": [
    {
     "name": "stdout",
     "output_type": "stream",
     "text": [
      "--- Running Simulations ---\n"
     ]
    }
   ],
   "source": [
    "print(\"--- Running Simulations ---\")\n",
    "o1,o2 = setup_options_hairpin()\n",
    "s=SimSystem(o1)\n",
    "s.start()\n",
    "s=SimSystem(o2)  \n",
    "s.start()\n",
    "# the second simulation is at the same join_concentration and temperature as the previous simulation,\n",
    "# so there's no need to re-initialize the energy model.\n",
    "\n",
    "# Try looking at o1.interface.transition_lists[0] to see each transition from the first simulation."
   ]
  },
  {
   "cell_type": "code",
   "execution_count": 18,
   "metadata": {},
   "outputs": [
    {
     "name": "stdout",
     "output_type": "stream",
     "text": [
      "\n",
      "--- Analysis of simulations with exact transition states ---\n",
      "  Coarse-grained trajectory of simulation #1:\n",
      "           0 : A\n",
      " 1.57939e-09 : 0\n",
      " 2.24047e-09 : A\n",
      " 3.15199e-09 : 0\n",
      " 5.57228e-09 : A\n",
      " 6.24405e-09 : 0\n",
      " 8.31052e-09 : A\n",
      " 8.93584e-09 : 0\n",
      " 9.32654e-09 : A\n",
      " 9.68345e-09 : 0\n",
      " 1.23224e-08 : A\n",
      "  1.3982e-08 : 0\n",
      " 1.59413e-08 : A\n",
      " 1.61866e-08 : 0\n",
      " 1.75578e-08 : C\n",
      " 1.98424e-08 : 0\n",
      " 2.00338e-08 : C\n",
      " 2.10122e-08 : 0\n",
      "  2.1466e-08 : D\n",
      "  Transitions from simulation #1:\n",
      "A -> A: 2.66e-09 (6)\n",
      "A -> C: 1.62e-09 (1)\n",
      "C -> C: 2.48e-09 (1)\n",
      "C -> D: 1.43e-09 (1)\n",
      "  Transitions averaged over all 1000 simulations:\n",
      "A -> A: 2.31e-08 (8283)\n",
      "A -> C: 5.41e-09 (461)\n",
      "C -> C: 4.03e-09 (130)\n",
      "C -> D: 5.06e-09 (459)\n",
      "A -> D: 8.29e-09 (340)\n",
      "A -> B: 8.09e-09 (204)\n",
      "B -> D: 3.94e-09 (201)\n",
      "B -> B: 2.77e-09 (91)\n",
      "B -> A: 4.89e-09 (3)\n",
      "C -> A: 8.24e-09 (2)\n",
      "INITIAL: A\n",
      "ENDSIDE_EXACT: B\n",
      "HPSIDE_EXACT: C\n",
      "stop:FULL: D\n",
      "\n",
      "--- Analysis of simulations with loose transition states ---\n",
      "  Coarse-grained trajectory of simulation #1:\n",
      "           0 : A\n",
      " 8.74296e-10 : 0\n",
      " 2.07812e-09 : A\n",
      " 4.18499e-09 : 0\n",
      " 5.81166e-09 : B\n",
      " 1.19544e-08 : B,C\n",
      " 1.25548e-08 : B\n",
      " 1.26066e-08 : B,C\n",
      " 1.88684e-08 : B,C,D\n",
      "  Transitions from simulation #1:\n",
      "A -> A: 2.08e-09 (1)\n",
      "A -> B: 3.73e-09 (1)\n",
      "B -> B,C: 3.10e-09 (2)\n",
      "B,C -> B: 6.00e-10 (1)\n",
      "B,C -> B,C,D: 6.26e-09 (1)\n",
      "  Transitions averaged over all 1000 simulations:\n",
      "A -> A: 2.33e-08 (8432)\n",
      "A -> B: 4.54e-09 (371)\n",
      "B -> B,C: 3.88e-09 (372)\n",
      "B,C -> B: 1.57e-09 (31)\n",
      "B,C -> B,C,D: 1.82e-09 (1000)\n",
      "A -> C: 2.93e-09 (718)\n",
      "C -> A: 4.07e-09 (62)\n",
      "C -> B,C: 4.99e-09 (731)\n",
      "B,C -> C: 2.06e-09 (72)\n",
      "C -> C: 4.63e-09 (68)\n",
      "B -> A: 2.82e-09 (27)\n",
      "B -> B: 2.46e-09 (17)\n",
      "C -> B: 2.84e-09 (3)\n",
      "B -> C: 3.55e-09 (6)\n",
      "INITIAL: A\n",
      "ENDSIDE_LOOSE: B\n",
      "HPSIDE_LOOSE: C\n",
      "stop:FULL: D\n"
     ]
    }
   ],
   "source": [
    "print()\n",
    "print(\"--- Analysis of simulations with exact transition states ---\")\n",
    "print(\"  Coarse-grained trajectory of simulation #1:\")\n",
    "print_transitions(o1.interface.transition_lists[0])\n",
    "print(\"  Transitions from simulation #1:\")\n",
    "parsedlist = parse_transition_list(o1.interface.transition_lists[0])\n",
    "print_transition_dict(parsedlist)\n",
    "print(\"  Transitions averaged over all %d simulations:\" % o1.num_simulations)\n",
    "parsedlist = parse_transition_lists(o1.interface.transition_lists)\n",
    "print_transition_dict(parsedlist,o1) # adds names for macrostates\n",
    "\n",
    "print()\n",
    "print(\"--- Analysis of simulations with loose transition states ---\")\n",
    "print(\"  Coarse-grained trajectory of simulation #1:\")\n",
    "print_transitions(o2.interface.transition_lists[0])\n",
    "print(\"  Transitions from simulation #1:\")\n",
    "parsedlist = parse_transition_list(o2.interface.transition_lists[0])\n",
    "print_transition_dict(parsedlist)\n",
    "print(\"  Transitions averaged over all %d simulations:\" % o2.num_simulations)\n",
    "parsedlist = parse_transition_lists(o2.interface.transition_lists)\n",
    "print_transition_dict(parsedlist,o2)  # adds names for macrostates"
   ]
  },
  {
   "cell_type": "markdown",
   "metadata": {},
   "source": [
    "\n",
    "<h4 id=\"A-final-thought\">A final thought<a class=\"anchor-link\" href=\"#A-final-thought\">¶</a></h4><p>Ponder why, for exact macrostates, the A -&gt; D transition can occur and is not even rare, while with loose macrostates, A transitions exclusively either to B or to C.</p>\n"
   ]
  }
 ],
 "metadata": {
  "kernelspec": {
   "display_name": "Python 3 (ipykernel)",
   "language": "python",
   "name": "python3"
  },
  "language_info": {
   "codemirror_mode": {
    "name": "ipython",
    "version": 3
   },
   "file_extension": ".py",
   "mimetype": "text/x-python",
   "name": "python",
   "nbconvert_exporter": "python",
   "pygments_lexer": "ipython3",
   "version": "3.10.8"
  }
 },
 "nbformat": 4,
 "nbformat_minor": 4
}
