{
 "cells": [
  {
   "cell_type": "markdown",
   "metadata": {},
   "source": [
    "\n",
    "<h1 id=\"Tutorial-3---Hairpin-transitions\">Tutorial 3 - Hairpin transitions<a class=\"anchor-link\" href=\"#Tutorial-3---Hairpin-transitions\">¶</a></h1>\n"
   ]
  },
  {
   "cell_type": "markdown",
   "metadata": {},
   "source": [
    "\n",
    "<p>Having seen how the simulation generates trajectories in Tutorial 2 -  Hairpin Trajectories, here we extract some information from the trajectories.  Using the example of Chapter 7.3 of Schaeffer's PhD thesis, this script shows how to use macrostate definitions and Transition Mode to extract a coarse-grained description of the system's motion through state space.</p>\n",
    "<p>This mode requires a little more post-processing of the Multistrand simulations... but don't be put off.  It's easy.</p>\n",
    "<p>Note that the transition times listed here are briefer than those that appear in the tables of Chapter 7.3 of Schaeffer's thesis.  That is because we are using different unimolecular and bimolecular rate constant values.</p>\n"
   ]
  },
  {
   "cell_type": "code",
   "execution_count": 1,
   "metadata": {},
   "outputs": [],
   "source": [
    "from multistrand.objects import *\n",
    "from multistrand.options import Options, Literals\n",
    "from multistrand.system import SimSystem\n",
    "import numpy as np"
   ]
  },
  {
   "cell_type": "markdown",
   "metadata": {},
   "source": [
    "\n",
    "<p>For <code>StopCondition</code> and <code>Macrostate</code> definitions:</p>\n"
   ]
  },
  {
   "cell_type": "markdown",
   "metadata": {},
   "source": [
    "\n",
    "<h4 id=\"Setup-options-for-simulation\">Setup options for simulation<a class=\"anchor-link\" href=\"#Setup-options-for-simulation\">¶</a></h4>\n"
   ]
  },
  {
   "cell_type": "code",
   "execution_count": 2,
   "metadata": {},
   "outputs": [],
   "source": [
    "def setup_options_hairpin():\n",
    "    \"\"\"\n",
    "    setup_options_hairpin( )\n",
    "\n",
    "    Returns the options object for simple hairpin example of\n",
    "    transition mode in Chapter 7.3 of Schaeffer's PhD thesis.\n",
    "    \"\"\"\n",
    "    # Once domains are defined, strands can be built from them using \"+\".\n",
    "    stem = Domain(name=\"stem\",sequence=\"GCATGC\",length=6)\n",
    "    hp = Domain(name=\"hairpin\", sequence=\"AAAA\",length=4)\n",
    "    s = stem + hp + stem.C\n",
    "    \n",
    "    # Note that because we defined domains, we can either represent secondary structures at the domain level or at the sequence level.\n",
    "    start_complex = Complex(strands=[s], structure=\"...\")\n",
    "    pathway_endside_exact_complex = Complex(strands=[s], structure=\"(((..........)))\")\n",
    "    pathway_endside_loose_complex = Complex(strands=[s], structure=\"(((**********)))\")\n",
    "    pathway_hpside_exact_complex = Complex(strands=[s],  structure=\"...(((....)))...\")\n",
    "    pathway_hpside_loose_complex = Complex(strands=[s],  structure=\"***(((****)))***\")\n",
    "    full_complex = Complex( strands=[s], structure=\"(.)\")\n",
    "\n",
    "    # Define macrostates to be tracked, i.e. we look for transitions between them.\n",
    "    initial_sc           = Macrostate(\"INITIAL\", [(start_complex,Literals.exact_macrostate,0)])\n",
    "    pathway_hp_exact_sc  = Macrostate(\"HPSIDE_EXACT\", [(pathway_hpside_exact_complex,Literals.exact_macrostate,0)])\n",
    "    pathway_hp_loose_sc  = Macrostate(\"HPSIDE_LOOSE\", [(pathway_hpside_loose_complex,Literals.loose_macrostate,2)])   # within distance 2 \n",
    "    pathway_end_exact_sc = Macrostate(\"ENDSIDE_EXACT\", [(pathway_endside_exact_complex,Literals.exact_macrostate,0)])\n",
    "    pathway_end_loose_sc = Macrostate(\"ENDSIDE_LOOSE\", [(pathway_endside_loose_complex,Literals.loose_macrostate,2)]) # within distance 2 \n",
    "    full_sc              = StopCondition(\"stop:FULL\", [(full_complex,Literals.exact_macrostate,0)])\n",
    "    # Multistrand treats Macrostates and StopConditions interchangeably; here we choose the name as a mnemonic for how it will be used.\n",
    "    # The simulation will stop the first time that 'full_sc' is reached, so we call it a StopCondition.\n",
    "    # The simulation keeps track of where it is, but keeps going, when it visits the others -- so they are called Macrostates.\n",
    "    # But the simulation would proceed identically if we randomly called some Macrostates and others StopConditions.  \n",
    "    # What determines Multistrand's behavior is that the name of 'full_sc' begins with \"stop:\" --\n",
    "    # this is what causes the simulation to stop when 'full_sc' is reached.\n",
    "\n",
    "    # We will set up two Transition Mode simulations, one looking at transitions between exact states...\n",
    "    o_exact = Options(simulation_mode=\"Transition\", substrate_type=\"DNA\", temperature=310.15,\n",
    "                      num_simulations=1000, simulation_time=.01, start_state=[start_complex], verbosity=0)\n",
    "    o_exact.stop_conditions = [initial_sc, pathway_end_exact_sc, pathway_hp_exact_sc, full_sc]\n",
    "    o_exact.JSMetropolis37()\n",
    "\n",
    "    # ... and one looking at transitions between loosely defined macrostates\n",
    "    o_loose = Options(simulation_mode=\"Transition\",parameter_type=\"Nupack\",substrate_type=\"DNA\", temperature=310.15,\n",
    "                      num_simulations=1000, simulation_time=.01, start_state=[start_complex], verbosity=0)\n",
    "    o_loose.stop_conditions = [initial_sc, pathway_end_loose_sc, pathway_hp_loose_sc, full_sc]\n",
    "    o_loose.JSMetropolis37()\n",
    "    \n",
    "    # change verbosity to 1, above, and you'll see a print-out during the simulation runs, every time a stop state is reached.\n",
    "    return o_exact, o_loose"
   ]
  },
  {
   "cell_type": "markdown",
   "metadata": {},
   "source": [
    "\n",
    "<h4 id=\"Some-helper-code-follows.\">Some helper code follows.<a class=\"anchor-link\" href=\"#Some-helper-code-follows.\">¶</a></h4><p>The following naming routines are motivated by the observation that when \"loose\" macrostates are used, it is possible that a given system state may belong to more than one macrostate.  Thus, transitions are not between macrostates per se, but are between macrostate membership vectors.  I.e. if the macrostates are A, B, C, and D, then a single simulation step might take the system state from being in both A and C, to being in B, C, and D.  And perhaps thence to being in no macrostates.</p>\n"
   ]
  },
  {
   "cell_type": "code",
   "execution_count": 3,
   "metadata": {},
   "outputs": [],
   "source": [
    "# mol will be a list of True/False for which transition macrostates the system has entered,\n",
    "# so in_state(mol) returns True if the system is in at least one of the listed macrostates.\n",
    "def in_state(mol): return sum(mol) > 0\n",
    "\n",
    "# mol is a Boolean descriptor of macrostate occupancy, like mol above.\n",
    "# a short-hand name for this macrostate (based on the order given in stop_conditions) is provided.\n",
    "def mol_name(mol):\n",
    "    charindex = 'ABCDEFGHIJKLMNOPQRSTUVWXYZ0'\n",
    "    names = [charindex[j] for j,i in enumerate(mol) if i]\n",
    "    if names == []:\n",
    "        names = charindex[26]\n",
    "    else:\n",
    "        names = \",\".join(names)\n",
    "    return names\n",
    "\n",
    "# t0 and t1 are Boolean descriptors of macrostate occupancy, like mol above.\n",
    "# here, we provide a printable name for the transition between two macrostate occupancy lists.\n",
    "def trans_name(t0,t1):\n",
    "    return mol_name(t0) + ' -> ' + mol_name(t1)\n",
    "\n",
    "def print_transitions(transition_traj):\n",
    "    for t in transition_traj:\n",
    "        print(f\"{t[0]:12g} : {mol_name(t[1])}\")\n",
    "          \n",
    "# for each simulation, the transition trajectory reports the tuple (time_entered, which_macrostates_the_system_is_now_in)\n",
    "def parse_transition_lists(transition_traj_list):\n",
    "    transition_dict = {}\n",
    "\n",
    "    # the mol1 --> mol2 transition times represent (time of entry into mol1) to (time of entry into mol2)\n",
    "    for transition_traj in transition_traj_list:\n",
    "        truncated = [i for i in transition_traj if in_state(i[1])]\n",
    "        tt = truncated # only keep the entry times and mol states for non-trivial mols\n",
    "\n",
    "        for i in range(len(tt)-1):\n",
    "            nm = trans_name(tt[i][1],tt[i+1][1])\n",
    "            if nm in transition_dict:\n",
    "                transition_dict[nm].append(tt[i+1][0] - tt[i][0])\n",
    "            else:\n",
    "                transition_dict[nm] = [tt[i+1][0] - tt[i][0]]\n",
    "\n",
    "    return transition_dict\n",
    "\n",
    "def parse_transition_list(transition_traj_list):\n",
    "    return parse_transition_lists([transition_traj_list])\n",
    "\n",
    "    \n",
    "def print_transition_dict(transition_dict, options=None):\n",
    "    k = list(transition_dict.keys())\n",
    "    k.sort()\n",
    "\n",
    "    for i in k:\n",
    "        transition_times = np.array(transition_dict[i])\n",
    "        print(f\"{i}: {np.mean(transition_times):.2e} ({len(transition_dict[i])})\")\n",
    "\n",
    "    # also print the true names of the macrostates, if an Options object is provided\n",
    "    charindex = 'ABCDEFGHIJKLMNOPQRSTUVWXYZ0'\n",
    "    if options:\n",
    "        for idx, i in enumerate(options.stop_conditions):\n",
    "            print(f\"{i.tag}: {charindex[idx]}\")"
   ]
  },
  {
   "cell_type": "markdown",
   "metadata": {},
   "source": [
    "\n",
    "<h4 id=\"Back-to-stuff-to-try...-automatically-or-by-hand,-line-by-line\">Back to stuff to try... automatically or by hand, line-by-line<a class=\"anchor-link\" href=\"#Back-to-stuff-to-try...-automatically-or-by-hand,-line-by-line\">¶</a></h4>\n"
   ]
  },
  {
   "cell_type": "code",
   "execution_count": 4,
   "metadata": {},
   "outputs": [
    {
     "name": "stdout",
     "output_type": "stream",
     "text": [
      "--- Running Simulations ---\n",
      "--- Finished simulations ---\n"
     ]
    }
   ],
   "source": [
    "print(\"--- Running Simulations ---\")\n",
    "o_exact, o_loose = setup_options_hairpin()\n",
    "s = SimSystem(o_exact)\n",
    "s.start()\n",
    "s = SimSystem(o_loose)  \n",
    "s.start()\n",
    "print(\"--- Finished simulations ---\")"
   ]
  },
  {
   "cell_type": "code",
   "execution_count": 5,
   "metadata": {},
   "outputs": [],
   "source": [
    "def print_results(o, label: str):\n",
    "    print()\n",
    "    print(f\"--- Analysis of simulations with {label} transition states ---\")\n",
    "    print(\"  Coarse-grained trajectory of simulation #1:\")\n",
    "    print_transitions(o.interface.transition_lists[0])\n",
    "    print(\"  Transitions from simulation #1:\")\n",
    "    parsedlist = parse_transition_list(o.interface.transition_lists[0])\n",
    "    print_transition_dict(parsedlist)\n",
    "    print(\"  Transitions averaged over all %d simulations:\" % o.num_simulations)\n",
    "    parsedlist = parse_transition_lists(o.interface.transition_lists)\n",
    "    print_transition_dict(parsedlist, o) # adds names for macrostates"
   ]
  },
  {
   "cell_type": "code",
   "execution_count": 6,
   "metadata": {},
   "outputs": [
    {
     "name": "stdout",
     "output_type": "stream",
     "text": [
      "\n",
      "--- Analysis of simulations with exact transition states ---\n",
      "  Coarse-grained trajectory of simulation #1:\n",
      "           0 : A\n",
      " 8.78574e-10 : 0\n",
      " 1.40498e-09 : A\n",
      " 4.49546e-09 : 0\n",
      " 6.84786e-09 : A\n",
      " 8.85494e-09 : 0\n",
      " 9.31992e-09 : A\n",
      " 9.33026e-09 : 0\n",
      "  1.0786e-08 : A\n",
      " 1.37033e-08 : 0\n",
      " 1.38448e-08 : A\n",
      " 1.52093e-08 : 0\n",
      " 1.61841e-08 : A\n",
      " 1.74344e-08 : 0\n",
      " 9.31578e-07 : A\n",
      " 9.33543e-07 : 0\n",
      " 9.34899e-07 : A\n",
      " 9.37078e-07 : 0\n",
      " 9.37275e-07 : A\n",
      " 9.37333e-07 : 0\n",
      " 9.44343e-07 : A\n",
      " 9.46842e-07 : 0\n",
      " 9.49417e-07 : A\n",
      " 9.50396e-07 : 0\n",
      " 9.52385e-07 : A\n",
      " 9.54505e-07 : 0\n",
      "  9.5474e-07 : A\n",
      " 9.55257e-07 : 0\n",
      " 9.57204e-07 : A\n",
      " 9.57512e-07 : 0\n",
      "  9.5968e-07 : A\n",
      " 9.59684e-07 : 0\n",
      " 9.59821e-07 : A\n",
      " 9.64028e-07 : 0\n",
      " 9.64095e-07 : A\n",
      " 9.64473e-07 : 0\n",
      " 9.66533e-07 : C\n",
      " 9.67112e-07 : 0\n",
      " 9.68867e-07 : D\n",
      "  Transitions from simulation #1:\n",
      "A -> A: 5.67e-08 (17)\n",
      "A -> C: 2.44e-09 (1)\n",
      "C -> D: 2.33e-09 (1)\n",
      "  Transitions averaged over all 1000 simulations:\n",
      "A -> A: 1.84e-08 (9482)\n",
      "A -> B: 5.43e-09 (140)\n",
      "A -> C: 3.16e-09 (511)\n",
      "A -> D: 5.73e-09 (354)\n",
      "B -> A: 2.77e-09 (1)\n",
      "B -> B: 1.91e-09 (71)\n",
      "B -> D: 3.22e-09 (140)\n",
      "C -> A: 1.23e-09 (4)\n",
      "C -> B: 2.04e-09 (1)\n",
      "C -> C: 1.66e-09 (347)\n",
      "C -> D: 3.27e-09 (506)\n",
      "INITIAL: A\n",
      "ENDSIDE_EXACT: B\n",
      "HPSIDE_EXACT: C\n",
      "stop:FULL: D\n",
      "\n",
      "--- Analysis of simulations with loose transition states ---\n",
      "  Coarse-grained trajectory of simulation #1:\n",
      "           0 : A\n",
      "  3.7272e-10 : 0\n",
      "  1.1984e-09 : C\n",
      " 1.12925e-08 : B,C\n",
      " 1.23564e-08 : B,C,D\n",
      "  Transitions from simulation #1:\n",
      "A -> C: 1.20e-09 (1)\n",
      "B,C -> B,C,D: 1.06e-09 (1)\n",
      "C -> B,C: 1.01e-08 (1)\n",
      "  Transitions averaged over all 1000 simulations:\n",
      "A -> A: 1.94e-08 (9244)\n",
      "A -> B: 6.44e-09 (274)\n",
      "A -> C: 1.99e-09 (767)\n",
      "B -> A: 1.52e-08 (9)\n",
      "B -> B: 1.56e-09 (18)\n",
      "B -> B,C: 2.46e-09 (326)\n",
      "B -> C: 1.34e-09 (6)\n",
      "B,C -> B: 1.16e-09 (56)\n",
      "B,C -> B,C,D: 1.43e-09 (1000)\n",
      "B,C -> C: 1.09e-09 (95)\n",
      "C -> A: 1.96e-09 (32)\n",
      "C -> B: 1.74e-09 (11)\n",
      "C -> B,C: 2.83e-09 (825)\n",
      "C -> C: 1.30e-09 (90)\n",
      "INITIAL: A\n",
      "ENDSIDE_LOOSE: B\n",
      "HPSIDE_LOOSE: C\n",
      "stop:FULL: D\n"
     ]
    }
   ],
   "source": [
    "print_results(o_exact, \"exact\")\n",
    "print_results(o_loose, \"loose\")"
   ]
  },
  {
   "cell_type": "markdown",
   "metadata": {},
   "source": [
    "\n",
    "<h4 id=\"A-final-thought\">A final thought<a class=\"anchor-link\" href=\"#A-final-thought\">¶</a></h4><p>Ponder why, for exact macrostates, the A -&gt; D transition can occur and is not even rare, while with loose macrostates, A transitions exclusively either to B or to C.</p>\n"
   ]
  }
 ],
 "metadata": {
  "kernelspec": {
   "display_name": "Python 3 (ipykernel)",
   "language": "python",
   "name": "python3"
  },
  "language_info": {
   "codemirror_mode": {
    "name": "ipython",
    "version": 3
   },
   "file_extension": ".py",
   "mimetype": "text/x-python",
   "name": "python",
   "nbconvert_exporter": "python",
   "pygments_lexer": "ipython3",
   "version": "3.11.5"
  }
 },
 "nbformat": 4,
 "nbformat_minor": 4
}
