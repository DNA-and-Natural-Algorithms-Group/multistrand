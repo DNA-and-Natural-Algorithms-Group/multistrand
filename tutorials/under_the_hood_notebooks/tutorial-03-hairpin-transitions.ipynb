{
 "cells": [
  {
   "cell_type": "markdown",
   "metadata": {},
   "source": [
    "# Tutorial 3 - Hairpin transitions"
   ]
  },
  {
   "cell_type": "markdown",
   "metadata": {},
   "source": [
    "Having seen how the simulation generates trajectories in Tutorial 2 -  Hairpin Trajectories, here we extract some information from the trajectories.  Using the example of Chapter 7.3 of Schaeffer's PhD thesis, this script shows how to use macrostate definitions and Transition Mode to extract a coarse-grained description of the system's motion through state space.\n",
    "\n",
    "This mode requires a little more post-processing of the Multistrand simulations... but don't be put off.  It's easy.\n",
    "\n",
    "Note that the transition times listed here are briefer than those that appear in the tables of Chapter 7.3 of Schaeffer's thesis.  That is because we are using different unimolecular and bimolecular rate constant values."
   ]
  },
  {
   "cell_type": "code",
   "execution_count": 2,
   "metadata": {
    "collapsed": true
   },
   "outputs": [],
   "source": [
    "from multistrand.objects import *\n",
    "from multistrand.options import Options\n",
    "from multistrand.system import SimSystem\n",
    "import numpy as np"
   ]
  },
  {
   "cell_type": "markdown",
   "metadata": {},
   "source": [
    "For `StopCondition` and `Macrostate` definitions:"
   ]
  },
  {
   "cell_type": "code",
   "execution_count": 3,
   "metadata": {
    "collapsed": true
   },
   "outputs": [],
   "source": [
    "Exact_Macrostate = 0   # match a secondary structure exactly (i.e. any system state that has a complex with this exact structure)\n",
    "Bound_Macrostate = 1   # match any system state in which the given strand is bound to another strand\n",
    "Dissoc_Macrostate = 2  # match any system state in which there exists a complex with exactly the given strands, in that order\n",
    "Loose_Macrostate = 3   # match a secondary structure with \"don't care\"s, allowing a certain number of disagreements\n",
    "Count_Macrostate = 4   # match a secondary structure, allowing a certain number of disagreements\n",
    "# see Schaeffer's PhD thesis, chapter 7.2, for more information"
   ]
  },
  {
   "cell_type": "markdown",
   "metadata": {},
   "source": [
    "#### Setup options for simulation"
   ]
  },
  {
   "cell_type": "code",
   "execution_count": 4,
   "metadata": {
    "collapsed": true
   },
   "outputs": [],
   "source": [
    "def setup_options_hairpin():\n",
    "    \"\"\"\n",
    "    setup_options_hairpin( )\n",
    "\n",
    "    Returns the options object for simple hairpin example of\n",
    "    transition mode in Chapter 7.3 of Schaeffer's PhD thesis.\n",
    "    \"\"\"\n",
    "\n",
    "    # Once domains are defined, strands can be built from them using \"+\".\n",
    "    stem = Domain(name=\"stem\",sequence=\"GCATGC\",length=6)\n",
    "    hp = Domain(name=\"hairpin\", sequence=\"AAAA\",length=4)\n",
    "    s = stem + hp + stem.C\n",
    "    \n",
    "    # Note that because we defined domains, we can either represent secondary structures at the domain level or at the sequence level.\n",
    "    start_complex = Complex(strands=[s], structure=\"...\")\n",
    "    pathway_endside_exact_complex = Complex(strands=[s], structure=\"(((..........)))\")\n",
    "    pathway_endside_loose_complex = Complex(strands=[s], structure=\"(((**********)))\")\n",
    "    pathway_hpside_exact_complex = Complex(strands=[s],  structure=\"...(((....)))...\")\n",
    "    pathway_hpside_loose_complex = Complex(strands=[s],  structure=\"***(((****)))***\")\n",
    "    full_complex = Complex( strands=[s], structure=\"(.)\")\n",
    "\n",
    "    # Define macrostates to be tracked, i.e. we look for transitions between them.\n",
    "    initial_sc           = Macrostate( \"INITIAL\", [(start_complex,Exact_Macrostate,0)])\n",
    "    pathway_hp_exact_sc  = Macrostate( \"HPSIDE_EXACT\", [(pathway_hpside_exact_complex,Exact_Macrostate,0)])\n",
    "    pathway_hp_loose_sc  = Macrostate( \"HPSIDE_LOOSE\", [(pathway_hpside_loose_complex,Loose_Macrostate,2)])   # within distance 2 \n",
    "    pathway_end_exact_sc = Macrostate( \"ENDSIDE_EXACT\", [(pathway_endside_exact_complex,Exact_Macrostate,0)])\n",
    "    pathway_end_loose_sc = Macrostate( \"ENDSIDE_LOOSE\", [(pathway_endside_loose_complex,Loose_Macrostate,2)]) # within distance 2 \n",
    "    full_sc              = StopCondition( \"stop:FULL\", [(full_complex,Exact_Macrostate,0)])\n",
    "    # Multistrand treats Macrostates and StopConditions interchangeably; here we choose the name as a mnemonic for how it will be used.\n",
    "    # The simulation will stop the first time that 'full_sc' is reached, so we call it a StopCondition.\n",
    "    # The simulation keeps track of where it is, but keeps going, when it visits the others -- so they are called Macrostates.\n",
    "    # But the simulation would proceed identically if randomly called some Macrostates and others StopConditions.  \n",
    "    # What determines Multistrand's behavior is that the name of 'full_sc' begins with \"stop:\" -- this is what causes the simulation to stop when 'full_sc' is reached.\n",
    "\n",
    "    # We will set up two Transition Mode simulations, one looking at transitions between exact states...\n",
    "    o_exact = Options(simulation_mode=\"Transition\",parameter_type=\"Nupack\",substrate_type=\"DNA\", temperature=310.15,\n",
    "                num_simulations = 1000, simulation_time=.01, start_state=[start_complex], rate_scaling='Calibrated', verbosity=0)\n",
    "    o_exact.stop_conditions = [initial_sc, pathway_end_exact_sc, pathway_hp_exact_sc,full_sc]\n",
    "\n",
    "    # ... and one looking at transitions between loosely defined macrostates\n",
    "    o_loose = Options(simulation_mode=\"Transition\",parameter_type=\"Nupack\",substrate_type=\"DNA\", temperature=310.15,\n",
    "                num_simulations = 1000, simulation_time=.01, start_state=[start_complex], rate_scaling='Calibrated', verbosity=0)\n",
    "    o_loose.stop_conditions = [initial_sc, pathway_end_loose_sc, pathway_hp_loose_sc,full_sc]\n",
    "\n",
    "    # change verbosity to 1, above, and you'll see a print-out during the simulation runs, every time a stop state is reached.\n",
    "\n",
    "    return o_exact,o_loose\n"
   ]
  },
  {
   "cell_type": "markdown",
   "metadata": {},
   "source": [
    "#### Some helper code follows.\n",
    "\n",
    "The following naming routines are motivated by the observation that when \"loose\" macrostates are used, it is possible that a given system state may belong to more than one macrostate.  Thus, transitions are not between macrostates per se, but are between macrostate membership vectors.  I.e. if the macrostates are A, B, C, and D, then a single simulation step might take the system state from being in both A and C, to being in B, C, and D.  And perhaps thence to being in no macrostates."
   ]
  },
  {
   "cell_type": "code",
   "execution_count": 6,
   "metadata": {
    "collapsed": true
   },
   "outputs": [],
   "source": [
    "# mol will be a list of True/False for which transition macrostates the system has entered,\n",
    "# so in_state(mol) returns True if the system is in at least one of the listed macrostates.\n",
    "def in_state( mol ): return sum(mol) > 0\n",
    "\n",
    "# mol is a Boolean descriptor of macrostate occupancy, like mol above.\n",
    "# a short-hand name for this macrostate (based on the order given in stop_conditions) is provided.\n",
    "def mol_name(mol):\n",
    "    charindex = 'ABCDEFGHIJKLMNOPQRSTUVWXYZ0'\n",
    "    names = [charindex[j] for i,j in zip(mol,range(len(mol))) if i]\n",
    "    if names == []:\n",
    "        names = charindex[26]\n",
    "    else:\n",
    "        names = \",\".join(names)\n",
    "    return names\n",
    "\n",
    "# t0 and t1 are Boolean descriptors of macrostate occupancy, like mol above.\n",
    "# here, we provide a printable name for the transition between two macrostate occupancy lists.\n",
    "def trans_name(t0,t1):\n",
    "    return mol_name(t0) + ' -> ' + mol_name(t1)\n",
    "\n",
    "def print_transitions( transition_traj ):\n",
    "    for t in transition_traj:\n",
    "        print \"%12g : %s\" % ( t[0], mol_name(t[1]) )\n",
    "                  \n",
    "# for each simulation, the transition trajectory reports the tuple (time_entered, which_macrostates_the_system_is_now_in)\n",
    "def parse_transition_lists( transition_traj_list ):\n",
    "    transition_dict = {}\n",
    "\n",
    "    # the mol1 --> mol2 transition times represent (time of entry into mol1) to (time of entry into mol2)\n",
    "    for transition_traj in transition_traj_list:\n",
    "        truncated = [i for i in transition_traj if in_state(i[1])]\n",
    "        tt = truncated # only keep the entry times and mol states for non-trivial mols\n",
    "\n",
    "        for i in range(len(tt)-1):\n",
    "            nm = trans_name(tt[i][1],tt[i+1][1])\n",
    "            if nm in transition_dict:\n",
    "                transition_dict[nm].append( tt[i+1][0] - tt[i][0] )\n",
    "            else:\n",
    "                transition_dict[nm] = [tt[i+1][0] - tt[i][0]]\n",
    "\n",
    "    return transition_dict\n",
    "\n",
    "def parse_transition_list( transition_traj_list ):\n",
    "    return parse_transition_lists( [transition_traj_list] )\n",
    "\n",
    "    \n",
    "def print_transition_dict( transition_dict, options = None ):\n",
    "    k = transition_dict.keys()\n",
    "    k.sort() \n",
    "\n",
    "    for i in k:\n",
    "        transition_times = np.array( transition_dict[i] )\n",
    "        print(\"{0}: {2:.2e} ({1})\".format(i,len(transition_dict[i]),np.mean(transition_times)))\n",
    "    \n",
    "    # also print the true names of the macrostates, if an Options object is provided\n",
    "    charindex = 'ABCDEFGHIJKLMNOPQRSTUVWXYZ0'\n",
    "    if options:\n",
    "        for i,idx in zip(options.stop_conditions,range(len(options.stop_conditions))):\n",
    "            print(\"{0}: {1}\".format( i.tag, charindex[idx]))\n"
   ]
  },
  {
   "cell_type": "markdown",
   "metadata": {},
   "source": [
    "#### Back to stuff to try... automatically or by hand, line-by-line "
   ]
  },
  {
   "cell_type": "code",
   "execution_count": 8,
   "metadata": {
    "collapsed": false
   },
   "outputs": [
    {
     "name": "stdout",
     "output_type": "stream",
     "text": [
      "--- Running Simulations ---\n"
     ]
    }
   ],
   "source": [
    "print \"--- Running Simulations ---\"\n",
    "o1,o2 = setup_options_hairpin()\n",
    "s=SimSystem(o1)\n",
    "s.start()\n",
    "s=SimSystem(o2)  \n",
    "s.start()\n",
    "# the second simulation is at the same join_concentration and temperature as the previous simulation,\n",
    "# so there's no need to re-initialize the energy model.\n",
    "\n",
    "# Try looking at o1.interface.transition_lists[0] to see each transition from the first simulation.\n"
   ]
  },
  {
   "cell_type": "code",
   "execution_count": 9,
   "metadata": {
    "collapsed": false
   },
   "outputs": [
    {
     "name": "stdout",
     "output_type": "stream",
     "text": [
      "\n",
      "--- Analysis of simulations with exact transition states ---\n",
      "  Coarse-grained trajectory of simulation #1:\n",
      "           0 : A\n",
      " 1.22144e-09 : 0\n",
      " 1.78942e-09 : B\n",
      " 2.61462e-09 : 0\n",
      " 6.41587e-09 : D\n",
      "  Transitions from simulation #1:\n",
      "A -> B: 1.79e-09 (1)\n",
      "B -> D: 4.63e-09 (1)\n",
      "  Transitions averaged over all 1000 simulations:\n",
      "A -> A: 2.54e-08 (8097)\n",
      "A -> B: 5.89e-09 (169)\n",
      "A -> C: 5.80e-09 (459)\n",
      "A -> D: 9.35e-09 (378)\n",
      "B -> A: 9.14e-09 (1)\n",
      "B -> B: 2.58e-09 (73)\n",
      "B -> D: 3.92e-09 (168)\n",
      "C -> A: 4.49e-09 (5)\n",
      "C -> C: 3.69e-09 (151)\n",
      "C -> D: 5.34e-09 (454)\n",
      "INITIAL: A\n",
      "ENDSIDE_EXACT: B\n",
      "HPSIDE_EXACT: C\n",
      "stop:FULL: D\n",
      "\n",
      "--- Analysis of simulations with loose transition states ---\n",
      "  Coarse-grained trajectory of simulation #1:\n",
      "           0 : A\n",
      " 1.25103e-10 : 0\n",
      " 2.99438e-10 : C\n",
      " 3.42921e-09 : B,C\n",
      " 7.44509e-09 : C\n",
      "  8.9331e-09 : B,C\n",
      " 8.95478e-09 : B,C,D\n",
      "  Transitions from simulation #1:\n",
      "A -> C: 2.99e-10 (1)\n",
      "B,C -> B,C,D: 2.17e-11 (1)\n",
      "B,C -> C: 4.02e-09 (1)\n",
      "C -> B,C: 2.31e-09 (2)\n",
      "  Transitions averaged over all 1000 simulations:\n",
      "A -> A: 2.42e-08 (7929)\n",
      "A -> B: 6.76e-09 (350)\n",
      "A -> C: 2.70e-09 (733)\n",
      "B -> A: 2.90e-09 (27)\n",
      "B -> B: 2.19e-09 (24)\n",
      "B -> B,C: 3.87e-09 (362)\n",
      "B -> C: 1.90e-09 (3)\n",
      "B,C -> B: 1.80e-09 (38)\n",
      "B,C -> B,C,D: 1.79e-09 (1000)\n",
      "B,C -> C: 2.06e-09 (101)\n",
      "C -> A: 3.91e-09 (56)\n",
      "C -> B: 6.26e-09 (4)\n",
      "C -> B,C: 4.80e-09 (777)\n",
      "C -> C: 3.69e-09 (73)\n",
      "INITIAL: A\n",
      "ENDSIDE_LOOSE: B\n",
      "HPSIDE_LOOSE: C\n",
      "stop:FULL: D\n"
     ]
    }
   ],
   "source": [
    "print\n",
    "print \"--- Analysis of simulations with exact transition states ---\"\n",
    "print \"  Coarse-grained trajectory of simulation #1:\"\n",
    "print_transitions(o1.interface.transition_lists[0])\n",
    "print \"  Transitions from simulation #1:\"\n",
    "parsedlist = parse_transition_list(o1.interface.transition_lists[0])\n",
    "print_transition_dict(parsedlist)\n",
    "print \"  Transitions averaged over all %d simulations:\" % o1.num_simulations\n",
    "parsedlist = parse_transition_lists(o1.interface.transition_lists)\n",
    "print_transition_dict(parsedlist,o1) # adds names for macrostates\n",
    "\n",
    "print\n",
    "print \"--- Analysis of simulations with loose transition states ---\"\n",
    "print \"  Coarse-grained trajectory of simulation #1:\"\n",
    "print_transitions(o2.interface.transition_lists[0])\n",
    "print \"  Transitions from simulation #1:\"\n",
    "parsedlist = parse_transition_list(o2.interface.transition_lists[0])\n",
    "print_transition_dict(parsedlist)\n",
    "print \"  Transitions averaged over all %d simulations:\" % o2.num_simulations\n",
    "parsedlist = parse_transition_lists(o2.interface.transition_lists)\n",
    "print_transition_dict(parsedlist,o2)  # adds names for macrostates"
   ]
  },
  {
   "cell_type": "markdown",
   "metadata": {},
   "source": [
    "#### A final thought\n",
    "\n",
    "Ponder why, for exact macrostates, the A -> D transition can occur and is not even rare, while with loose macrostates, A transitions exclusively either to B or to C."
   ]
  },
  {
   "cell_type": "code",
   "execution_count": null,
   "metadata": {
    "collapsed": true
   },
   "outputs": [],
   "source": []
  }
 ],
 "metadata": {
  "kernelspec": {
   "display_name": "Python 2",
   "language": "python",
   "name": "python2"
  },
  "language_info": {
   "codemirror_mode": {
    "name": "ipython",
    "version": 2
   },
   "file_extension": ".py",
   "mimetype": "text/x-python",
   "name": "python",
   "nbconvert_exporter": "python",
   "pygments_lexer": "ipython2",
   "version": "2.7.10"
  }
 },
 "nbformat": 4,
 "nbformat_minor": 0
}
