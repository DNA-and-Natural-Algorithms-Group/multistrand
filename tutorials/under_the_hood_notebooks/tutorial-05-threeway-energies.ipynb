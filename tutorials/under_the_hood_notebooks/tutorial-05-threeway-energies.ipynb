{
 "cells": [
  {
   "cell_type": "markdown",
   "metadata": {},
   "source": [
    "# Tutorial 5 - Three-way branch migration energies"
   ]
  },
  {
   "cell_type": "markdown",
   "metadata": {},
   "source": [
    "This example walks you through how to create multistranded complexes, how to find their energies, and how to find the energy of a test tube state with multiple complexes at a chosen concentration (i.e. box volume).  The example is toehold-initiated three-way branch migration, as per Zhang & Winfree, JACS, 2009.  Some things are done in a rather long-winded way, just to illustrate the use of Multistrand.  The intention is for you to try it line by line, and play around a bit.  E.g. use print() and help()."
   ]
  },
  {
   "cell_type": "code",
   "execution_count": 1,
   "metadata": {
    "collapsed": true
   },
   "outputs": [],
   "source": [
    "from multistrand.objects import *\n",
    "from multistrand.options import Options\n",
    "from multistrand.system import *"
   ]
  },
  {
   "cell_type": "code",
   "execution_count": 2,
   "metadata": {
    "collapsed": true
   },
   "outputs": [],
   "source": [
    "o = Options()\n",
    "o.dangles = 1                # 0 is \"None\", 1 is \"Some\", 2 is \"All\".  You can use the string names only when passing as arguments to Options().\n",
    "o.temperature = 25           # values between 0 and 100 are assumed to be Celsius; between 273.15 and 373.0 are assumed to be Kelvin.\n",
    "o.join_concentration = 1e-9  # the volume is scaled such that a single strand is at 1 nM concentration.  \n",
    "initialize_energy_model(o)   # only necessary if you want to use energy() without running a simulation first.\n",
    "\n",
    "# More meaningful names for argument values to the energy() function call, below.\n",
    "Loop_Energy = 0    # requesting no dG_assoc or dG_volume terms to be added.  So only loop energies remain.\n",
    "Volume_Energy = 1  # requesting dG_volume but not dG_assoc terms to be added.  No clear interpretation for this.\n",
    "Complex_Energy = 2 # requesting dG_assoc but not dG_volume terms to be added.  This is the NUPACK complex microstate energy, sans symmetry terms.\n",
    "Tube_Energy = 3    # requesting both dG_assoc and dG_volume terms to be added.  Summed over complexes, this is the system state energy."
   ]
  },
  {
   "cell_type": "code",
   "execution_count": 3,
   "metadata": {
    "collapsed": true
   },
   "outputs": [],
   "source": [
    "# Sequences are from Zhang & Winfree, JACS 2009.\n",
    "toe = Domain(name='toehold',sequence='TCTCCATGTC')\n",
    "bm = Domain(name='branch',sequence='CCCTCATTCAATACCCTACG')\n",
    "extra = Domain(name='extra',sequence='CCACATACATCATATT')"
   ]
  },
  {
   "cell_type": "code",
   "execution_count": 4,
   "metadata": {
    "collapsed": true
   },
   "outputs": [],
   "source": [
    "substrate = toe.C + bm.C   # this.C computes the Watson-Crick complement; this + that combines Domains (or Strands) into a larger Strand.\n",
    "substrate.name = \"Substrate\"\n",
    "invasion = substrate.C\n",
    "incumbent = extra + bm\n",
    "incumbent.name = \"Incumbent\""
   ]
  },
  {
   "cell_type": "code",
   "execution_count": 5,
   "metadata": {
    "collapsed": true
   },
   "outputs": [],
   "source": [
    "# Example showing that the reference state energy (all strands separate, unstructured) is defined to be 0.\n",
    "\n",
    "c1= Complex(strands=[incumbent],structure='.'*len(incumbent.sequence))\n",
    "c2= Complex(strands=[invasion],structure='.'*len(invasion.sequence))\n",
    "c3= Complex(strands=[substrate],structure='.'*len(substrate.sequence))\n",
    "ref = energy([c1,c2,c3],o,Tube_Energy)  # gives all zeros"
   ]
  },
  {
   "cell_type": "code",
   "execution_count": 6,
   "metadata": {
    "collapsed": true
   },
   "outputs": [],
   "source": [
    "# Example secondary structure in dot-paren notation, showing invading strand bound by the 10-nt toehold only.\n",
    "# The two commands below are equivalent.  One gives the structure at the domain level, the other at the sequence level.\n",
    "c = Complex( strands=[incumbent,invasion,substrate],structure=\".(+.(+))\")\n",
    "c = Complex( strands=[incumbent,invasion,substrate],structure = \"................((((((((((((((((((((+....................((((((((((+))))))))))))))))))))))))))))))\")"
   ]
  },
  {
   "cell_type": "code",
   "execution_count": 7,
   "metadata": {
    "collapsed": true
   },
   "outputs": [],
   "source": [
    "# Another way to write the above dot-paren secondary structure:\n",
    "st = \"................\" + 20 * \"(\" + \"+\" + 20*\".\" + \"((((((((((+))))))))))\" + 20 * \")\""
   ]
  },
  {
   "cell_type": "code",
   "execution_count": 8,
   "metadata": {
    "collapsed": false
   },
   "outputs": [
    {
     "name": "stdout",
     "output_type": "stream",
     "text": [
      "<------- incumbent strand ---------> <------ invasion strand -----> <----- substrate strand ----->  (energy in kcal/mol)\n",
      "CCACATACATCATATTCCCTCATTCAATACCCTACG CCCTCATTCAATACCCTACGTCTCCATGTC GACATGGAGACGTAGGGTATTGAATGAGGG\n",
      "initial state\n",
      "................(((((((((((((((((((( .............................. ..........))))))))))))))))))))+ (-18.04)\n"
     ]
    }
   ],
   "source": [
    "print \"<------- incumbent strand ---------> <------ invasion strand -----> <----- substrate strand ----->  (energy in kcal/mol)\"\n",
    "print incumbent.sequence + ' ' + invasion.sequence + ' ' + substrate.sequence\n",
    "\n",
    "print \"initial state\"\n",
    "c1 = Complex( strands=[invasion], structure='.'*len(invasion.sequence) )\n",
    "st = \"................((((((((((((((((((((+..........))))))))))))))))))))\"\n",
    "st = '.' * 16 + '(' * 20 + '+' + '.' * 10 + ')' * 20\n",
    "c2 = Complex( strands=[incumbent,substrate], structure=st)\n",
    "before = sum( energy([c1,c2],o,Tube_Energy) )\n",
    "   # awkward wrap for indicating complexes on one line without permuting strand order\n",
    "print st[:36] + ' ' +  '.'*30 + ' ' + st[37:] + '+' + \" (%5.2f)\" % before"
   ]
  },
  {
   "cell_type": "code",
   "execution_count": 9,
   "metadata": {
    "collapsed": false
   },
   "outputs": [
    {
     "name": "stdout",
     "output_type": "stream",
     "text": [
      "toehold binding\n",
      "................((((((((((((((((((((+....................(.........+.........)))))))))))))))))))))  (-2.79)\n",
      "................((((((((((((((((((((+....................((........+........))))))))))))))))))))))  (-5.24)\n",
      "................((((((((((((((((((((+....................(((.......+.......)))))))))))))))))))))))  (-5.88)\n",
      "................((((((((((((((((((((+....................((((......+......))))))))))))))))))))))))  (-8.02)\n",
      "................((((((((((((((((((((+....................(((((.....+.....)))))))))))))))))))))))))  (-10.80)\n",
      "................((((((((((((((((((((+....................((((((....+....))))))))))))))))))))))))))  (-11.22)\n",
      "................((((((((((((((((((((+....................(((((((...+...)))))))))))))))))))))))))))  (-12.65)\n",
      "................((((((((((((((((((((+....................((((((((..+..))))))))))))))))))))))))))))  (-15.26)\n",
      "................((((((((((((((((((((+....................(((((((((.+.)))))))))))))))))))))))))))))  (-15.81)\n",
      "................((((((((((((((((((((+....................((((((((((+))))))))))))))))))))))))))))))  (-16.86)\n"
     ]
    }
   ],
   "source": [
    "# Then we'll compute the energies for states as the toehold is binding, one base pair at a time.\n",
    "\n",
    "print \"toehold binding\"\n",
    "\n",
    "toeh = [0] * 10\n",
    "for i in range(10)[::-1] :\n",
    "    te = \"................((((((((((((((((((((+....................\" + (10-i)* \"(\" + i*\".\" + \"+\" + i*\".\" + (10-i)* \")\" + \"))))))))))))))))))))\"\n",
    "    c = Complex( strands=[incumbent,invasion,substrate],structure = te)\n",
    "    toeh[9-i] = energy([c],o,Tube_Energy)[0]\n",
    "    print te   + \"  (%5.2f)\" % toeh[9-i]"
   ]
  },
  {
   "cell_type": "code",
   "execution_count": 10,
   "metadata": {
    "collapsed": false
   },
   "outputs": [
    {
     "name": "stdout",
     "output_type": "stream",
     "text": [
      "branch migration\n",
      "................((((((((((((((((((((+....................((((((((((+))))))))))))))))))))))))))))))  (-16.86)\n",
      "................(((((((((((((((((((.+....................((((((((((+)))))))))).)))))))))))))))))))  (-14.98)\n",
      "................(((((((((((((((((((.+...................(((((((((((+))))))))))))))))))))))))))))))  (-17.12)\n",
      "................((((((((((((((((((..+...................(((((((((((+))))))))))).))))))))))))))))))  (-14.83)\n",
      "................((((((((((((((((((..+..................((((((((((((+))))))))))))))))))))))))))))))  (-17.87)\n",
      "................(((((((((((((((((...+..................((((((((((((+)))))))))))).)))))))))))))))))  (-18.93)\n",
      "................(((((((((((((((((...+.................(((((((((((((+))))))))))))))))))))))))))))))  (-19.34)\n",
      "................((((((((((((((((....+.................(((((((((((((+))))))))))))).))))))))))))))))  (-18.85)\n",
      "................((((((((((((((((....+................((((((((((((((+))))))))))))))))))))))))))))))  (-18.21)\n",
      "................(((((((((((((((.....+................((((((((((((((+)))))))))))))).)))))))))))))))  (-16.52)\n",
      "................(((((((((((((((.....+...............(((((((((((((((+))))))))))))))))))))))))))))))  (-17.99)\n",
      "................((((((((((((((......+...............(((((((((((((((+))))))))))))))).))))))))))))))  (-16.60)\n",
      "................((((((((((((((......+..............((((((((((((((((+))))))))))))))))))))))))))))))  (-17.99)\n",
      "................(((((((((((((.......+..............((((((((((((((((+)))))))))))))))).)))))))))))))  (-15.87)\n",
      "................(((((((((((((.......+.............(((((((((((((((((+))))))))))))))))))))))))))))))  (-17.87)\n",
      "................((((((((((((........+.............(((((((((((((((((+))))))))))))))))).))))))))))))  (-18.93)\n",
      "................((((((((((((........+............((((((((((((((((((+))))))))))))))))))))))))))))))  (-19.34)\n",
      "................(((((((((((.........+............((((((((((((((((((+)))))))))))))))))).)))))))))))  (-18.34)\n",
      "................(((((((((((.........+...........(((((((((((((((((((+))))))))))))))))))))))))))))))  (-18.22)\n",
      "................((((((((((..........+...........(((((((((((((((((((+))))))))))))))))))).))))))))))  (-17.17)\n",
      "................((((((((((..........+..........((((((((((((((((((((+))))))))))))))))))))))))))))))  (-18.08)\n",
      "................(((((((((...........+..........((((((((((((((((((((+)))))))))))))))))))).)))))))))  (-18.15)\n",
      "................(((((((((...........+.........(((((((((((((((((((((+))))))))))))))))))))))))))))))  (-18.54)\n",
      "................((((((((............+.........(((((((((((((((((((((+))))))))))))))))))))).))))))))  (-16.48)\n",
      "................((((((((............+........((((((((((((((((((((((+))))))))))))))))))))))))))))))  (-18.02)\n",
      "................(((((((.............+........((((((((((((((((((((((+)))))))))))))))))))))).)))))))  (-17.88)\n",
      "................(((((((.............+.......(((((((((((((((((((((((+))))))))))))))))))))))))))))))  (-17.74)\n",
      "................((((((..............+.......(((((((((((((((((((((((+))))))))))))))))))))))).))))))  (-17.06)\n",
      "................((((((..............+......((((((((((((((((((((((((+))))))))))))))))))))))))))))))  (-18.22)\n",
      "................(((((...............+......((((((((((((((((((((((((+)))))))))))))))))))))))).)))))  (-18.40)\n",
      "................(((((...............+.....(((((((((((((((((((((((((+))))))))))))))))))))))))))))))  (-18.54)\n",
      "................((((................+.....(((((((((((((((((((((((((+))))))))))))))))))))))))).))))  (-16.48)\n",
      "................((((................+....((((((((((((((((((((((((((+))))))))))))))))))))))))))))))  (-18.02)\n",
      "................(((.................+....((((((((((((((((((((((((((+)))))))))))))))))))))))))).)))  (-18.28)\n",
      "................(((.................+...(((((((((((((((((((((((((((+))))))))))))))))))))))))))))))  (-18.21)\n",
      "................((..................+...(((((((((((((((((((((((((((+))))))))))))))))))))))))))).))  (-16.52)\n",
      "................((..................+..((((((((((((((((((((((((((((+))))))))))))))))))))))))))))))  (-17.99)\n",
      "................(...................+..((((((((((((((((((((((((((((+)))))))))))))))))))))))))))).)  (-16.60)\n",
      "................(...................+.(((((((((((((((((((((((((((((+))))))))))))))))))))))))))))))  (-17.99)\n"
     ]
    }
   ],
   "source": [
    "# Then we'll compute the energies for the three-stranded complex during branch migration steps and toehold binding steps\n",
    "\n",
    "print \"branch migration\"\n",
    "primary = [0] * 20   # structures with full base-pairing\n",
    "intermed = [0] * 19  # structures with one base-pair open\n",
    "for i in range(20):\n",
    "    st = \"................\" + (20-i) * \"(\" + i*\".\" + \"+\" + (20-i)*\".\" + i*\"(\" + \"((((((((((+))))))))))\" + 20 * \")\"\n",
    "    c = Complex( strands=[incumbent,invasion,substrate],structure = st)\n",
    "    primary[i] = energy([c],o,Tube_Energy)[0]\n",
    "    print st  + \"  (%5.2f)\" % primary[i]\n",
    "    \n",
    "    if i<19:\n",
    "        st_int = \"................\" + (19-i) * \"(\" + (i+1)*\".\" + \"+\" + (20-i)*\".\" + i*\"(\" + \"((((((((((+))))))))))\" + i * \")\" + \".\" + (19-i) * \")\"\n",
    "        c = Complex( strands=[incumbent,invasion,substrate],structure = st_int)\n",
    "        intermed[i] = energy([c],o,Tube_Energy)[0]\n",
    "        print st_int  + \"  (%5.2f)\" % intermed[i]"
   ]
  },
  {
   "cell_type": "code",
   "execution_count": 11,
   "metadata": {
    "collapsed": false
   },
   "outputs": [
    {
     "name": "stdout",
     "output_type": "stream",
     "text": [
      "dissociated states\n",
      ".................................... .(((((((((((((((((((((((((((((+))))))))))))))))))))))))))))).  (-31.62)\n"
     ]
    }
   ],
   "source": [
    "# Note that toeh[9] == primary[0]\n",
    "energies = toeh[:9]+[primary[i/2] if i%2==0 else intermed[i/2] for i in range(len(primary)+len(intermed))]\n",
    "steps    = range(-9,0)+[v/2.0 for v in range(0,39)]\n",
    "\n",
    "# Finally we'll compute the energies for the tube system states consisting of two complexes after strand displacement.\n",
    "\n",
    "print 'dissociated states'\n",
    "\n",
    "     # Immediately after dissociation, the just-broken base pair is open\n",
    "c1 = Complex( strands=[incumbent], structure='.'*len(incumbent.sequence) )\n",
    "st = '.' + '(' * 29 + '+' + ')' * 29 + '.'\n",
    "c2 = Complex( strands=[invasion,substrate], structure=st)\n",
    "after_open = sum( energy([c1,c2],o,Tube_Energy) )\n",
    "print '.'*36 + ' ' + st + \"  (%5.2f)\" % after_open"
   ]
  },
  {
   "cell_type": "code",
   "execution_count": 12,
   "metadata": {
    "collapsed": false
   },
   "outputs": [
    {
     "name": "stdout",
     "output_type": "stream",
     "text": [
      ".................................... ((((((((((((((((((((((((((((((+))))))))))))))))))))))))))))))  (-32.46)\n"
     ]
    }
   ],
   "source": [
    "     # Now the final base pair closes.\n",
    "c1 = Complex( strands=[incumbent], structure='.'*len(incumbent.sequence) )\n",
    "st = '(' * 30 + '+' + ')' * 30\n",
    "c2 = Complex( strands=[invasion,substrate], structure=st)\n",
    "after_closed = sum( energy([c1,c2],o,Tube_Energy) )\n",
    "print '.'*36 + ' ' + st + \"  (%5.2f)\" % after_closed"
   ]
  },
  {
   "cell_type": "code",
   "execution_count": 13,
   "metadata": {
    "collapsed": true
   },
   "outputs": [],
   "source": [
    "# Store the before and after states in \"positions\" -15 and +25,+26 so as to visually separate them from the intramolecular pathway.\n",
    "energies = [before] + energies + [after_open, after_closed]\n",
    "steps = [-15] + steps + [25,26]"
   ]
  },
  {
   "cell_type": "markdown",
   "metadata": {},
   "source": [
    "Bring on the plots!"
   ]
  },
  {
   "cell_type": "code",
   "execution_count": 14,
   "metadata": {
    "collapsed": false
   },
   "outputs": [
    {
     "data": {
      "image/png": "[encoded data removed]",
      "text/plain": [
       "<matplotlib.figure.Figure at 0x10a698910>"
      ]
     },
     "metadata": {},
     "output_type": "display_data"
    }
   ],
   "source": [
    "import numpy as np\n",
    "import matplotlib\n",
    "import matplotlib.pylab as plt\n",
    "%matplotlib inline\n",
    "plt.figure(1)\n",
    "plt.plot(steps,energies,'go',steps,energies,'-')\n",
    "plt.title(\"Energy landscape for canonical three-way branch migration pathway\\n (10 nt toehold, %d nM, %6.2fK)\" % (o.join_concentration * 1e9, o.temperature) )\n",
    "plt.xlabel(\"Steps of branch migration (negative during toehold binding)\",fontsize='larger')\n",
    "plt.ylabel(\"Microstate Energy (kcal/mol)\",fontsize='larger')\n",
    "plt.yticks(fontsize='larger',va='bottom')\n",
    "plt.xticks(fontsize='larger')\n",
    "plt.show()"
   ]
  },
  {
   "cell_type": "code",
   "execution_count": null,
   "metadata": {
    "collapsed": true
   },
   "outputs": [],
   "source": []
  }
 ],
 "metadata": {
  "kernelspec": {
   "display_name": "Python 2",
   "language": "python",
   "name": "python2"
  },
  "language_info": {
   "codemirror_mode": {
    "name": "ipython",
    "version": 2
   },
   "file_extension": ".py",
   "mimetype": "text/x-python",
   "name": "python",
   "nbconvert_exporter": "python",
   "pygments_lexer": "ipython2",
   "version": "2.7.10"
  }
 },
 "nbformat": 4,
 "nbformat_minor": 0
}
